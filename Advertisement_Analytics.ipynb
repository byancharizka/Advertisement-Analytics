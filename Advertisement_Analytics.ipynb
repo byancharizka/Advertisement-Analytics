{
  "nbformat": 4,
  "nbformat_minor": 0,
  "metadata": {
    "colab": {
      "provenance": []
    },
    "kernelspec": {
      "name": "python3",
      "display_name": "Python 3"
    },
    "language_info": {
      "name": "python"
    }
  },
  "cells": [
    {
      "cell_type": "markdown",
      "source": [
        "# **ADVERTISEMENT ANALYSIS**\n",
        "\n",
        "Analisis ini bertujuan untuk melihat seberapa efektif promosi iklan melalui TV, radio dan newspaper terhadap Sales (Penjualan).\n",
        "Kita akan mencoba memprediksi promosi iklan menggunakan :\n",
        "1.   Simple Linier Regression\n",
        "2.   Polynomial Linear Regression\n",
        "\n"
      ],
      "metadata": {
        "id": "od9YMSpBmVzt"
      }
    },
    {
      "cell_type": "markdown",
      "source": [
        "### Import the Libraries"
      ],
      "metadata": {
        "id": "Zb3dFiFomVvj"
      }
    },
    {
      "cell_type": "code",
      "execution_count": null,
      "metadata": {
        "id": "Q7wHc4YkmTUT"
      },
      "outputs": [],
      "source": [
        "import numpy as np\n",
        "import pandas as pd\n",
        "import matplotlib.pyplot as plt\n",
        "import seaborn as sns"
      ]
    },
    {
      "cell_type": "code",
      "source": [
        "from google.colab import drive\n",
        "drive.mount ('/content/drive')"
      ],
      "metadata": {
        "id": "n-XW5Z79nTDH",
        "colab": {
          "base_uri": "https://localhost:8080/"
        },
        "outputId": "a47d70c0-867f-4efc-8a4e-ccf9fb0a677c"
      },
      "execution_count": null,
      "outputs": [
        {
          "output_type": "stream",
          "name": "stdout",
          "text": [
            "Drive already mounted at /content/drive; to attempt to forcibly remount, call drive.mount(\"/content/drive\", force_remount=True).\n"
          ]
        }
      ]
    },
    {
      "cell_type": "markdown",
      "source": [
        "### Import Data"
      ],
      "metadata": {
        "id": "wd91_hwnnfjO"
      }
    },
    {
      "cell_type": "code",
      "source": [
        "df = pd.read_csv('/content/drive/MyDrive/PORTOFOLIO/CSV/Sales Analytics/advertising-date.csv')\n",
        "df.head()"
      ],
      "metadata": {
        "id": "uxQbMSoKnamp",
        "colab": {
          "base_uri": "https://localhost:8080/",
          "height": 206
        },
        "outputId": "7632cafb-b240-42a5-ee6f-f3148707910f"
      },
      "execution_count": null,
      "outputs": [
        {
          "output_type": "execute_result",
          "data": {
            "text/plain": [
              "        Date     TV  Radio  Newspaper  Sales\n",
              "0   1/1/2015  230.1   37.8       69.2   22.1\n",
              "1   1/8/2015   44.5   39.3       45.1   10.4\n",
              "2  1/15/2015   17.2   45.9       69.3    9.3\n",
              "3  1/22/2015  151.5   41.3       58.5   18.5\n",
              "4  1/29/2015  180.8   10.8       58.4   12.9"
            ],
            "text/html": [
              "\n",
              "  <div id=\"df-e8416775-a350-4e7c-aecd-2f922287785f\" class=\"colab-df-container\">\n",
              "    <div>\n",
              "<style scoped>\n",
              "    .dataframe tbody tr th:only-of-type {\n",
              "        vertical-align: middle;\n",
              "    }\n",
              "\n",
              "    .dataframe tbody tr th {\n",
              "        vertical-align: top;\n",
              "    }\n",
              "\n",
              "    .dataframe thead th {\n",
              "        text-align: right;\n",
              "    }\n",
              "</style>\n",
              "<table border=\"1\" class=\"dataframe\">\n",
              "  <thead>\n",
              "    <tr style=\"text-align: right;\">\n",
              "      <th></th>\n",
              "      <th>Date</th>\n",
              "      <th>TV</th>\n",
              "      <th>Radio</th>\n",
              "      <th>Newspaper</th>\n",
              "      <th>Sales</th>\n",
              "    </tr>\n",
              "  </thead>\n",
              "  <tbody>\n",
              "    <tr>\n",
              "      <th>0</th>\n",
              "      <td>1/1/2015</td>\n",
              "      <td>230.1</td>\n",
              "      <td>37.8</td>\n",
              "      <td>69.2</td>\n",
              "      <td>22.1</td>\n",
              "    </tr>\n",
              "    <tr>\n",
              "      <th>1</th>\n",
              "      <td>1/8/2015</td>\n",
              "      <td>44.5</td>\n",
              "      <td>39.3</td>\n",
              "      <td>45.1</td>\n",
              "      <td>10.4</td>\n",
              "    </tr>\n",
              "    <tr>\n",
              "      <th>2</th>\n",
              "      <td>1/15/2015</td>\n",
              "      <td>17.2</td>\n",
              "      <td>45.9</td>\n",
              "      <td>69.3</td>\n",
              "      <td>9.3</td>\n",
              "    </tr>\n",
              "    <tr>\n",
              "      <th>3</th>\n",
              "      <td>1/22/2015</td>\n",
              "      <td>151.5</td>\n",
              "      <td>41.3</td>\n",
              "      <td>58.5</td>\n",
              "      <td>18.5</td>\n",
              "    </tr>\n",
              "    <tr>\n",
              "      <th>4</th>\n",
              "      <td>1/29/2015</td>\n",
              "      <td>180.8</td>\n",
              "      <td>10.8</td>\n",
              "      <td>58.4</td>\n",
              "      <td>12.9</td>\n",
              "    </tr>\n",
              "  </tbody>\n",
              "</table>\n",
              "</div>\n",
              "    <div class=\"colab-df-buttons\">\n",
              "\n",
              "  <div class=\"colab-df-container\">\n",
              "    <button class=\"colab-df-convert\" onclick=\"convertToInteractive('df-e8416775-a350-4e7c-aecd-2f922287785f')\"\n",
              "            title=\"Convert this dataframe to an interactive table.\"\n",
              "            style=\"display:none;\">\n",
              "\n",
              "  <svg xmlns=\"http://www.w3.org/2000/svg\" height=\"24px\" viewBox=\"0 -960 960 960\">\n",
              "    <path d=\"M120-120v-720h720v720H120Zm60-500h600v-160H180v160Zm220 220h160v-160H400v160Zm0 220h160v-160H400v160ZM180-400h160v-160H180v160Zm440 0h160v-160H620v160ZM180-180h160v-160H180v160Zm440 0h160v-160H620v160Z\"/>\n",
              "  </svg>\n",
              "    </button>\n",
              "\n",
              "  <style>\n",
              "    .colab-df-container {\n",
              "      display:flex;\n",
              "      gap: 12px;\n",
              "    }\n",
              "\n",
              "    .colab-df-convert {\n",
              "      background-color: #E8F0FE;\n",
              "      border: none;\n",
              "      border-radius: 50%;\n",
              "      cursor: pointer;\n",
              "      display: none;\n",
              "      fill: #1967D2;\n",
              "      height: 32px;\n",
              "      padding: 0 0 0 0;\n",
              "      width: 32px;\n",
              "    }\n",
              "\n",
              "    .colab-df-convert:hover {\n",
              "      background-color: #E2EBFA;\n",
              "      box-shadow: 0px 1px 2px rgba(60, 64, 67, 0.3), 0px 1px 3px 1px rgba(60, 64, 67, 0.15);\n",
              "      fill: #174EA6;\n",
              "    }\n",
              "\n",
              "    .colab-df-buttons div {\n",
              "      margin-bottom: 4px;\n",
              "    }\n",
              "\n",
              "    [theme=dark] .colab-df-convert {\n",
              "      background-color: #3B4455;\n",
              "      fill: #D2E3FC;\n",
              "    }\n",
              "\n",
              "    [theme=dark] .colab-df-convert:hover {\n",
              "      background-color: #434B5C;\n",
              "      box-shadow: 0px 1px 3px 1px rgba(0, 0, 0, 0.15);\n",
              "      filter: drop-shadow(0px 1px 2px rgba(0, 0, 0, 0.3));\n",
              "      fill: #FFFFFF;\n",
              "    }\n",
              "  </style>\n",
              "\n",
              "    <script>\n",
              "      const buttonEl =\n",
              "        document.querySelector('#df-e8416775-a350-4e7c-aecd-2f922287785f button.colab-df-convert');\n",
              "      buttonEl.style.display =\n",
              "        google.colab.kernel.accessAllowed ? 'block' : 'none';\n",
              "\n",
              "      async function convertToInteractive(key) {\n",
              "        const element = document.querySelector('#df-e8416775-a350-4e7c-aecd-2f922287785f');\n",
              "        const dataTable =\n",
              "          await google.colab.kernel.invokeFunction('convertToInteractive',\n",
              "                                                    [key], {});\n",
              "        if (!dataTable) return;\n",
              "\n",
              "        const docLinkHtml = 'Like what you see? Visit the ' +\n",
              "          '<a target=\"_blank\" href=https://colab.research.google.com/notebooks/data_table.ipynb>data table notebook</a>'\n",
              "          + ' to learn more about interactive tables.';\n",
              "        element.innerHTML = '';\n",
              "        dataTable['output_type'] = 'display_data';\n",
              "        await google.colab.output.renderOutput(dataTable, element);\n",
              "        const docLink = document.createElement('div');\n",
              "        docLink.innerHTML = docLinkHtml;\n",
              "        element.appendChild(docLink);\n",
              "      }\n",
              "    </script>\n",
              "  </div>\n",
              "\n",
              "\n",
              "<div id=\"df-b7571a93-7ade-444d-8345-ef25206769d3\">\n",
              "  <button class=\"colab-df-quickchart\" onclick=\"quickchart('df-b7571a93-7ade-444d-8345-ef25206769d3')\"\n",
              "            title=\"Suggest charts\"\n",
              "            style=\"display:none;\">\n",
              "\n",
              "<svg xmlns=\"http://www.w3.org/2000/svg\" height=\"24px\"viewBox=\"0 0 24 24\"\n",
              "     width=\"24px\">\n",
              "    <g>\n",
              "        <path d=\"M19 3H5c-1.1 0-2 .9-2 2v14c0 1.1.9 2 2 2h14c1.1 0 2-.9 2-2V5c0-1.1-.9-2-2-2zM9 17H7v-7h2v7zm4 0h-2V7h2v10zm4 0h-2v-4h2v4z\"/>\n",
              "    </g>\n",
              "</svg>\n",
              "  </button>\n",
              "\n",
              "<style>\n",
              "  .colab-df-quickchart {\n",
              "      --bg-color: #E8F0FE;\n",
              "      --fill-color: #1967D2;\n",
              "      --hover-bg-color: #E2EBFA;\n",
              "      --hover-fill-color: #174EA6;\n",
              "      --disabled-fill-color: #AAA;\n",
              "      --disabled-bg-color: #DDD;\n",
              "  }\n",
              "\n",
              "  [theme=dark] .colab-df-quickchart {\n",
              "      --bg-color: #3B4455;\n",
              "      --fill-color: #D2E3FC;\n",
              "      --hover-bg-color: #434B5C;\n",
              "      --hover-fill-color: #FFFFFF;\n",
              "      --disabled-bg-color: #3B4455;\n",
              "      --disabled-fill-color: #666;\n",
              "  }\n",
              "\n",
              "  .colab-df-quickchart {\n",
              "    background-color: var(--bg-color);\n",
              "    border: none;\n",
              "    border-radius: 50%;\n",
              "    cursor: pointer;\n",
              "    display: none;\n",
              "    fill: var(--fill-color);\n",
              "    height: 32px;\n",
              "    padding: 0;\n",
              "    width: 32px;\n",
              "  }\n",
              "\n",
              "  .colab-df-quickchart:hover {\n",
              "    background-color: var(--hover-bg-color);\n",
              "    box-shadow: 0 1px 2px rgba(60, 64, 67, 0.3), 0 1px 3px 1px rgba(60, 64, 67, 0.15);\n",
              "    fill: var(--button-hover-fill-color);\n",
              "  }\n",
              "\n",
              "  .colab-df-quickchart-complete:disabled,\n",
              "  .colab-df-quickchart-complete:disabled:hover {\n",
              "    background-color: var(--disabled-bg-color);\n",
              "    fill: var(--disabled-fill-color);\n",
              "    box-shadow: none;\n",
              "  }\n",
              "\n",
              "  .colab-df-spinner {\n",
              "    border: 2px solid var(--fill-color);\n",
              "    border-color: transparent;\n",
              "    border-bottom-color: var(--fill-color);\n",
              "    animation:\n",
              "      spin 1s steps(1) infinite;\n",
              "  }\n",
              "\n",
              "  @keyframes spin {\n",
              "    0% {\n",
              "      border-color: transparent;\n",
              "      border-bottom-color: var(--fill-color);\n",
              "      border-left-color: var(--fill-color);\n",
              "    }\n",
              "    20% {\n",
              "      border-color: transparent;\n",
              "      border-left-color: var(--fill-color);\n",
              "      border-top-color: var(--fill-color);\n",
              "    }\n",
              "    30% {\n",
              "      border-color: transparent;\n",
              "      border-left-color: var(--fill-color);\n",
              "      border-top-color: var(--fill-color);\n",
              "      border-right-color: var(--fill-color);\n",
              "    }\n",
              "    40% {\n",
              "      border-color: transparent;\n",
              "      border-right-color: var(--fill-color);\n",
              "      border-top-color: var(--fill-color);\n",
              "    }\n",
              "    60% {\n",
              "      border-color: transparent;\n",
              "      border-right-color: var(--fill-color);\n",
              "    }\n",
              "    80% {\n",
              "      border-color: transparent;\n",
              "      border-right-color: var(--fill-color);\n",
              "      border-bottom-color: var(--fill-color);\n",
              "    }\n",
              "    90% {\n",
              "      border-color: transparent;\n",
              "      border-bottom-color: var(--fill-color);\n",
              "    }\n",
              "  }\n",
              "</style>\n",
              "\n",
              "  <script>\n",
              "    async function quickchart(key) {\n",
              "      const quickchartButtonEl =\n",
              "        document.querySelector('#' + key + ' button');\n",
              "      quickchartButtonEl.disabled = true;  // To prevent multiple clicks.\n",
              "      quickchartButtonEl.classList.add('colab-df-spinner');\n",
              "      try {\n",
              "        const charts = await google.colab.kernel.invokeFunction(\n",
              "            'suggestCharts', [key], {});\n",
              "      } catch (error) {\n",
              "        console.error('Error during call to suggestCharts:', error);\n",
              "      }\n",
              "      quickchartButtonEl.classList.remove('colab-df-spinner');\n",
              "      quickchartButtonEl.classList.add('colab-df-quickchart-complete');\n",
              "    }\n",
              "    (() => {\n",
              "      let quickchartButtonEl =\n",
              "        document.querySelector('#df-b7571a93-7ade-444d-8345-ef25206769d3 button');\n",
              "      quickchartButtonEl.style.display =\n",
              "        google.colab.kernel.accessAllowed ? 'block' : 'none';\n",
              "    })();\n",
              "  </script>\n",
              "</div>\n",
              "\n",
              "    </div>\n",
              "  </div>\n"
            ],
            "application/vnd.google.colaboratory.intrinsic+json": {
              "type": "dataframe",
              "variable_name": "df",
              "summary": "{\n  \"name\": \"df\",\n  \"rows\": 200,\n  \"fields\": [\n    {\n      \"column\": \"Date\",\n      \"properties\": {\n        \"dtype\": \"object\",\n        \"num_unique_values\": 200,\n        \"samples\": [\n          \"10/27/2016\",\n          \"4/16/2015\",\n          \"7/30/2015\"\n        ],\n        \"semantic_type\": \"\",\n        \"description\": \"\"\n      }\n    },\n    {\n      \"column\": \"TV\",\n      \"properties\": {\n        \"dtype\": \"number\",\n        \"std\": 85.85423631490808,\n        \"min\": 0.7,\n        \"max\": 296.4,\n        \"num_unique_values\": 190,\n        \"samples\": [\n          287.6,\n          286.0,\n          78.2\n        ],\n        \"semantic_type\": \"\",\n        \"description\": \"\"\n      }\n    },\n    {\n      \"column\": \"Radio\",\n      \"properties\": {\n        \"dtype\": \"number\",\n        \"std\": 14.846809176168724,\n        \"min\": 0.0,\n        \"max\": 49.6,\n        \"num_unique_values\": 167,\n        \"samples\": [\n          8.2,\n          36.9,\n          44.5\n        ],\n        \"semantic_type\": \"\",\n        \"description\": \"\"\n      }\n    },\n    {\n      \"column\": \"Newspaper\",\n      \"properties\": {\n        \"dtype\": \"number\",\n        \"std\": 21.778620838522826,\n        \"min\": 0.3,\n        \"max\": 114.0,\n        \"num_unique_values\": 172,\n        \"samples\": [\n          22.3,\n          5.7,\n          17.0\n        ],\n        \"semantic_type\": \"\",\n        \"description\": \"\"\n      }\n    },\n    {\n      \"column\": \"Sales\",\n      \"properties\": {\n        \"dtype\": \"number\",\n        \"std\": 5.217456565710478,\n        \"min\": 1.6,\n        \"max\": 27.0,\n        \"num_unique_values\": 121,\n        \"samples\": [\n          11.4,\n          21.2,\n          12.9\n        ],\n        \"semantic_type\": \"\",\n        \"description\": \"\"\n      }\n    }\n  ]\n}"
            }
          },
          "metadata": {},
          "execution_count": 264
        }
      ]
    },
    {
      "cell_type": "code",
      "source": [
        "df.info()"
      ],
      "metadata": {
        "id": "Rj4usn6RuZji",
        "colab": {
          "base_uri": "https://localhost:8080/"
        },
        "outputId": "99ddf3ee-5163-4a32-fbdf-e0850a365d60"
      },
      "execution_count": null,
      "outputs": [
        {
          "output_type": "stream",
          "name": "stdout",
          "text": [
            "<class 'pandas.core.frame.DataFrame'>\n",
            "RangeIndex: 200 entries, 0 to 199\n",
            "Data columns (total 5 columns):\n",
            " #   Column     Non-Null Count  Dtype  \n",
            "---  ------     --------------  -----  \n",
            " 0   Date       200 non-null    object \n",
            " 1   TV         200 non-null    float64\n",
            " 2   Radio      200 non-null    float64\n",
            " 3   Newspaper  200 non-null    float64\n",
            " 4   Sales      200 non-null    float64\n",
            "dtypes: float64(4), object(1)\n",
            "memory usage: 7.9+ KB\n"
          ]
        }
      ]
    },
    {
      "cell_type": "markdown",
      "source": [
        "### Exploratory Data Analysis"
      ],
      "metadata": {
        "id": "XC0i-XQqIPMW"
      }
    },
    {
      "cell_type": "code",
      "source": [
        "# Check Scatterplot\n",
        "fig,axes = plt.subplots(ncols=3,nrows=1,figsize=(14,4))\n",
        "\n",
        "axes[0].plot(df['TV'],df['Sales'],'o')\n",
        "axes[0].set_xlabel(\"TV Spend\")\n",
        "axes[0].set_ylabel(\"Sales\")\n",
        "axes[0].set_title(\"TV vs Sales\")\n",
        "\n",
        "axes[1].plot(df['Radio'],df['Sales'], 'o')\n",
        "axes[1].set_xlabel(\"Radio Spend\")\n",
        "axes[1].set_ylabel(\"Sales\")\n",
        "axes[1].set_title(\"Radio vs Sales\")\n",
        "\n",
        "axes[2].plot(df['Newspaper'],df['Sales'],'o')\n",
        "axes[2].set_xlabel(\"Newspaper Spend\")\n",
        "axes[2].set_ylabel(\"Sales\")\n",
        "axes[2].set_title(\"Newspaper vs Sales\")\n",
        "plt.tight_layout;"
      ],
      "metadata": {
        "id": "fK3DbGQun0EL",
        "colab": {
          "base_uri": "https://localhost:8080/",
          "height": 410
        },
        "outputId": "0083ddd3-6d60-4b9d-fee9-db5eebcdf441"
      },
      "execution_count": null,
      "outputs": [
        {
          "output_type": "display_data",
          "data": {
            "text/plain": [
              "<Figure size 1400x400 with 3 Axes>"
            ],
            "image/png": "[encoded data removed]"
          },
          "metadata": {}
        }
      ]
    },
    {
      "cell_type": "markdown",
      "source": [
        "Scatterplot adalah jenis grafik yang biasa digunakan untuk menampilkan hubungan antara dua variabel numerik. Untuk TV dan Radio kita bisa melihat bahwa ada korelasi yang bisa disebut cukup positif dengan Sales. Sedangkan untuk Newspaper dengan Sales memiliki korelasi yang random."
      ],
      "metadata": {
        "id": "mvUXQg2KsQRE"
      }
    },
    {
      "cell_type": "markdown",
      "source": [
        "### Split Data"
      ],
      "metadata": {
        "id": "zoh8uFjwuPGD"
      }
    },
    {
      "cell_type": "code",
      "source": [
        "X = df.drop(['Date','Sales'],axis=1)\n",
        "X.head()"
      ],
      "metadata": {
        "id": "GyZrzztNuLwr",
        "colab": {
          "base_uri": "https://localhost:8080/",
          "height": 206
        },
        "outputId": "ffadc98f-146f-4fd0-8752-7308a7c58087"
      },
      "execution_count": null,
      "outputs": [
        {
          "output_type": "execute_result",
          "data": {
            "text/plain": [
              "      TV  Radio  Newspaper\n",
              "0  230.1   37.8       69.2\n",
              "1   44.5   39.3       45.1\n",
              "2   17.2   45.9       69.3\n",
              "3  151.5   41.3       58.5\n",
              "4  180.8   10.8       58.4"
            ],
            "text/html": [
              "\n",
              "  <div id=\"df-38801b50-0312-481a-91fb-9eaa8697a1db\" class=\"colab-df-container\">\n",
              "    <div>\n",
              "<style scoped>\n",
              "    .dataframe tbody tr th:only-of-type {\n",
              "        vertical-align: middle;\n",
              "    }\n",
              "\n",
              "    .dataframe tbody tr th {\n",
              "        vertical-align: top;\n",
              "    }\n",
              "\n",
              "    .dataframe thead th {\n",
              "        text-align: right;\n",
              "    }\n",
              "</style>\n",
              "<table border=\"1\" class=\"dataframe\">\n",
              "  <thead>\n",
              "    <tr style=\"text-align: right;\">\n",
              "      <th></th>\n",
              "      <th>TV</th>\n",
              "      <th>Radio</th>\n",
              "      <th>Newspaper</th>\n",
              "    </tr>\n",
              "  </thead>\n",
              "  <tbody>\n",
              "    <tr>\n",
              "      <th>0</th>\n",
              "      <td>230.1</td>\n",
              "      <td>37.8</td>\n",
              "      <td>69.2</td>\n",
              "    </tr>\n",
              "    <tr>\n",
              "      <th>1</th>\n",
              "      <td>44.5</td>\n",
              "      <td>39.3</td>\n",
              "      <td>45.1</td>\n",
              "    </tr>\n",
              "    <tr>\n",
              "      <th>2</th>\n",
              "      <td>17.2</td>\n",
              "      <td>45.9</td>\n",
              "      <td>69.3</td>\n",
              "    </tr>\n",
              "    <tr>\n",
              "      <th>3</th>\n",
              "      <td>151.5</td>\n",
              "      <td>41.3</td>\n",
              "      <td>58.5</td>\n",
              "    </tr>\n",
              "    <tr>\n",
              "      <th>4</th>\n",
              "      <td>180.8</td>\n",
              "      <td>10.8</td>\n",
              "      <td>58.4</td>\n",
              "    </tr>\n",
              "  </tbody>\n",
              "</table>\n",
              "</div>\n",
              "    <div class=\"colab-df-buttons\">\n",
              "\n",
              "  <div class=\"colab-df-container\">\n",
              "    <button class=\"colab-df-convert\" onclick=\"convertToInteractive('df-38801b50-0312-481a-91fb-9eaa8697a1db')\"\n",
              "            title=\"Convert this dataframe to an interactive table.\"\n",
              "            style=\"display:none;\">\n",
              "\n",
              "  <svg xmlns=\"http://www.w3.org/2000/svg\" height=\"24px\" viewBox=\"0 -960 960 960\">\n",
              "    <path d=\"M120-120v-720h720v720H120Zm60-500h600v-160H180v160Zm220 220h160v-160H400v160Zm0 220h160v-160H400v160ZM180-400h160v-160H180v160Zm440 0h160v-160H620v160ZM180-180h160v-160H180v160Zm440 0h160v-160H620v160Z\"/>\n",
              "  </svg>\n",
              "    </button>\n",
              "\n",
              "  <style>\n",
              "    .colab-df-container {\n",
              "      display:flex;\n",
              "      gap: 12px;\n",
              "    }\n",
              "\n",
              "    .colab-df-convert {\n",
              "      background-color: #E8F0FE;\n",
              "      border: none;\n",
              "      border-radius: 50%;\n",
              "      cursor: pointer;\n",
              "      display: none;\n",
              "      fill: #1967D2;\n",
              "      height: 32px;\n",
              "      padding: 0 0 0 0;\n",
              "      width: 32px;\n",
              "    }\n",
              "\n",
              "    .colab-df-convert:hover {\n",
              "      background-color: #E2EBFA;\n",
              "      box-shadow: 0px 1px 2px rgba(60, 64, 67, 0.3), 0px 1px 3px 1px rgba(60, 64, 67, 0.15);\n",
              "      fill: #174EA6;\n",
              "    }\n",
              "\n",
              "    .colab-df-buttons div {\n",
              "      margin-bottom: 4px;\n",
              "    }\n",
              "\n",
              "    [theme=dark] .colab-df-convert {\n",
              "      background-color: #3B4455;\n",
              "      fill: #D2E3FC;\n",
              "    }\n",
              "\n",
              "    [theme=dark] .colab-df-convert:hover {\n",
              "      background-color: #434B5C;\n",
              "      box-shadow: 0px 1px 3px 1px rgba(0, 0, 0, 0.15);\n",
              "      filter: drop-shadow(0px 1px 2px rgba(0, 0, 0, 0.3));\n",
              "      fill: #FFFFFF;\n",
              "    }\n",
              "  </style>\n",
              "\n",
              "    <script>\n",
              "      const buttonEl =\n",
              "        document.querySelector('#df-38801b50-0312-481a-91fb-9eaa8697a1db button.colab-df-convert');\n",
              "      buttonEl.style.display =\n",
              "        google.colab.kernel.accessAllowed ? 'block' : 'none';\n",
              "\n",
              "      async function convertToInteractive(key) {\n",
              "        const element = document.querySelector('#df-38801b50-0312-481a-91fb-9eaa8697a1db');\n",
              "        const dataTable =\n",
              "          await google.colab.kernel.invokeFunction('convertToInteractive',\n",
              "                                                    [key], {});\n",
              "        if (!dataTable) return;\n",
              "\n",
              "        const docLinkHtml = 'Like what you see? Visit the ' +\n",
              "          '<a target=\"_blank\" href=https://colab.research.google.com/notebooks/data_table.ipynb>data table notebook</a>'\n",
              "          + ' to learn more about interactive tables.';\n",
              "        element.innerHTML = '';\n",
              "        dataTable['output_type'] = 'display_data';\n",
              "        await google.colab.output.renderOutput(dataTable, element);\n",
              "        const docLink = document.createElement('div');\n",
              "        docLink.innerHTML = docLinkHtml;\n",
              "        element.appendChild(docLink);\n",
              "      }\n",
              "    </script>\n",
              "  </div>\n",
              "\n",
              "\n",
              "<div id=\"df-8126f496-594c-4f15-ac63-f33105441445\">\n",
              "  <button class=\"colab-df-quickchart\" onclick=\"quickchart('df-8126f496-594c-4f15-ac63-f33105441445')\"\n",
              "            title=\"Suggest charts\"\n",
              "            style=\"display:none;\">\n",
              "\n",
              "<svg xmlns=\"http://www.w3.org/2000/svg\" height=\"24px\"viewBox=\"0 0 24 24\"\n",
              "     width=\"24px\">\n",
              "    <g>\n",
              "        <path d=\"M19 3H5c-1.1 0-2 .9-2 2v14c0 1.1.9 2 2 2h14c1.1 0 2-.9 2-2V5c0-1.1-.9-2-2-2zM9 17H7v-7h2v7zm4 0h-2V7h2v10zm4 0h-2v-4h2v4z\"/>\n",
              "    </g>\n",
              "</svg>\n",
              "  </button>\n",
              "\n",
              "<style>\n",
              "  .colab-df-quickchart {\n",
              "      --bg-color: #E8F0FE;\n",
              "      --fill-color: #1967D2;\n",
              "      --hover-bg-color: #E2EBFA;\n",
              "      --hover-fill-color: #174EA6;\n",
              "      --disabled-fill-color: #AAA;\n",
              "      --disabled-bg-color: #DDD;\n",
              "  }\n",
              "\n",
              "  [theme=dark] .colab-df-quickchart {\n",
              "      --bg-color: #3B4455;\n",
              "      --fill-color: #D2E3FC;\n",
              "      --hover-bg-color: #434B5C;\n",
              "      --hover-fill-color: #FFFFFF;\n",
              "      --disabled-bg-color: #3B4455;\n",
              "      --disabled-fill-color: #666;\n",
              "  }\n",
              "\n",
              "  .colab-df-quickchart {\n",
              "    background-color: var(--bg-color);\n",
              "    border: none;\n",
              "    border-radius: 50%;\n",
              "    cursor: pointer;\n",
              "    display: none;\n",
              "    fill: var(--fill-color);\n",
              "    height: 32px;\n",
              "    padding: 0;\n",
              "    width: 32px;\n",
              "  }\n",
              "\n",
              "  .colab-df-quickchart:hover {\n",
              "    background-color: var(--hover-bg-color);\n",
              "    box-shadow: 0 1px 2px rgba(60, 64, 67, 0.3), 0 1px 3px 1px rgba(60, 64, 67, 0.15);\n",
              "    fill: var(--button-hover-fill-color);\n",
              "  }\n",
              "\n",
              "  .colab-df-quickchart-complete:disabled,\n",
              "  .colab-df-quickchart-complete:disabled:hover {\n",
              "    background-color: var(--disabled-bg-color);\n",
              "    fill: var(--disabled-fill-color);\n",
              "    box-shadow: none;\n",
              "  }\n",
              "\n",
              "  .colab-df-spinner {\n",
              "    border: 2px solid var(--fill-color);\n",
              "    border-color: transparent;\n",
              "    border-bottom-color: var(--fill-color);\n",
              "    animation:\n",
              "      spin 1s steps(1) infinite;\n",
              "  }\n",
              "\n",
              "  @keyframes spin {\n",
              "    0% {\n",
              "      border-color: transparent;\n",
              "      border-bottom-color: var(--fill-color);\n",
              "      border-left-color: var(--fill-color);\n",
              "    }\n",
              "    20% {\n",
              "      border-color: transparent;\n",
              "      border-left-color: var(--fill-color);\n",
              "      border-top-color: var(--fill-color);\n",
              "    }\n",
              "    30% {\n",
              "      border-color: transparent;\n",
              "      border-left-color: var(--fill-color);\n",
              "      border-top-color: var(--fill-color);\n",
              "      border-right-color: var(--fill-color);\n",
              "    }\n",
              "    40% {\n",
              "      border-color: transparent;\n",
              "      border-right-color: var(--fill-color);\n",
              "      border-top-color: var(--fill-color);\n",
              "    }\n",
              "    60% {\n",
              "      border-color: transparent;\n",
              "      border-right-color: var(--fill-color);\n",
              "    }\n",
              "    80% {\n",
              "      border-color: transparent;\n",
              "      border-right-color: var(--fill-color);\n",
              "      border-bottom-color: var(--fill-color);\n",
              "    }\n",
              "    90% {\n",
              "      border-color: transparent;\n",
              "      border-bottom-color: var(--fill-color);\n",
              "    }\n",
              "  }\n",
              "</style>\n",
              "\n",
              "  <script>\n",
              "    async function quickchart(key) {\n",
              "      const quickchartButtonEl =\n",
              "        document.querySelector('#' + key + ' button');\n",
              "      quickchartButtonEl.disabled = true;  // To prevent multiple clicks.\n",
              "      quickchartButtonEl.classList.add('colab-df-spinner');\n",
              "      try {\n",
              "        const charts = await google.colab.kernel.invokeFunction(\n",
              "            'suggestCharts', [key], {});\n",
              "      } catch (error) {\n",
              "        console.error('Error during call to suggestCharts:', error);\n",
              "      }\n",
              "      quickchartButtonEl.classList.remove('colab-df-spinner');\n",
              "      quickchartButtonEl.classList.add('colab-df-quickchart-complete');\n",
              "    }\n",
              "    (() => {\n",
              "      let quickchartButtonEl =\n",
              "        document.querySelector('#df-8126f496-594c-4f15-ac63-f33105441445 button');\n",
              "      quickchartButtonEl.style.display =\n",
              "        google.colab.kernel.accessAllowed ? 'block' : 'none';\n",
              "    })();\n",
              "  </script>\n",
              "</div>\n",
              "\n",
              "    </div>\n",
              "  </div>\n"
            ],
            "application/vnd.google.colaboratory.intrinsic+json": {
              "type": "dataframe",
              "variable_name": "X",
              "summary": "{\n  \"name\": \"X\",\n  \"rows\": 200,\n  \"fields\": [\n    {\n      \"column\": \"TV\",\n      \"properties\": {\n        \"dtype\": \"number\",\n        \"std\": 85.85423631490808,\n        \"min\": 0.7,\n        \"max\": 296.4,\n        \"num_unique_values\": 190,\n        \"samples\": [\n          287.6,\n          286.0,\n          78.2\n        ],\n        \"semantic_type\": \"\",\n        \"description\": \"\"\n      }\n    },\n    {\n      \"column\": \"Radio\",\n      \"properties\": {\n        \"dtype\": \"number\",\n        \"std\": 14.846809176168724,\n        \"min\": 0.0,\n        \"max\": 49.6,\n        \"num_unique_values\": 167,\n        \"samples\": [\n          8.2,\n          36.9,\n          44.5\n        ],\n        \"semantic_type\": \"\",\n        \"description\": \"\"\n      }\n    },\n    {\n      \"column\": \"Newspaper\",\n      \"properties\": {\n        \"dtype\": \"number\",\n        \"std\": 21.778620838522826,\n        \"min\": 0.3,\n        \"max\": 114.0,\n        \"num_unique_values\": 172,\n        \"samples\": [\n          22.3,\n          5.7,\n          17.0\n        ],\n        \"semantic_type\": \"\",\n        \"description\": \"\"\n      }\n    }\n  ]\n}"
            }
          },
          "metadata": {},
          "execution_count": 267
        }
      ]
    },
    {
      "cell_type": "code",
      "source": [
        "y = df['Sales']\n",
        "y.head()"
      ],
      "metadata": {
        "id": "Tc4VDMo3qTjD",
        "colab": {
          "base_uri": "https://localhost:8080/"
        },
        "outputId": "3d06d7c2-bc79-49f6-b74d-0967c8b9c9c4"
      },
      "execution_count": null,
      "outputs": [
        {
          "output_type": "execute_result",
          "data": {
            "text/plain": [
              "0    22.1\n",
              "1    10.4\n",
              "2     9.3\n",
              "3    18.5\n",
              "4    12.9\n",
              "Name: Sales, dtype: float64"
            ]
          },
          "metadata": {},
          "execution_count": 268
        }
      ]
    },
    {
      "cell_type": "markdown",
      "source": [
        "### Train Test Split"
      ],
      "metadata": {
        "id": "kJxoKoenumZ1"
      }
    },
    {
      "cell_type": "code",
      "source": [
        "from sklearn.model_selection import train_test_split"
      ],
      "metadata": {
        "id": "gdYpV4FVuebs"
      },
      "execution_count": null,
      "outputs": []
    },
    {
      "cell_type": "code",
      "source": [
        "help(train_test_split)"
      ],
      "metadata": {
        "id": "81HEQ1cWusAb",
        "colab": {
          "base_uri": "https://localhost:8080/"
        },
        "outputId": "89dcd9cf-5dc6-4c2f-97a6-a01738bd01c2"
      },
      "execution_count": null,
      "outputs": [
        {
          "output_type": "stream",
          "name": "stdout",
          "text": [
            "Help on function train_test_split in module sklearn.model_selection._split:\n",
            "\n",
            "train_test_split(*arrays, test_size=None, train_size=None, random_state=None, shuffle=True, stratify=None)\n",
            "    Split arrays or matrices into random train and test subsets.\n",
            "    \n",
            "    Quick utility that wraps input validation,\n",
            "    ``next(ShuffleSplit().split(X, y))``, and application to input data\n",
            "    into a single call for splitting (and optionally subsampling) data into a\n",
            "    one-liner.\n",
            "    \n",
            "    Read more in the :ref:`User Guide <cross_validation>`.\n",
            "    \n",
            "    Parameters\n",
            "    ----------\n",
            "    *arrays : sequence of indexables with same length / shape[0]\n",
            "        Allowed inputs are lists, numpy arrays, scipy-sparse\n",
            "        matrices or pandas dataframes.\n",
            "    \n",
            "    test_size : float or int, default=None\n",
            "        If float, should be between 0.0 and 1.0 and represent the proportion\n",
            "        of the dataset to include in the test split. If int, represents the\n",
            "        absolute number of test samples. If None, the value is set to the\n",
            "        complement of the train size. If ``train_size`` is also None, it will\n",
            "        be set to 0.25.\n",
            "    \n",
            "    train_size : float or int, default=None\n",
            "        If float, should be between 0.0 and 1.0 and represent the\n",
            "        proportion of the dataset to include in the train split. If\n",
            "        int, represents the absolute number of train samples. If None,\n",
            "        the value is automatically set to the complement of the test size.\n",
            "    \n",
            "    random_state : int, RandomState instance or None, default=None\n",
            "        Controls the shuffling applied to the data before applying the split.\n",
            "        Pass an int for reproducible output across multiple function calls.\n",
            "        See :term:`Glossary <random_state>`.\n",
            "    \n",
            "    shuffle : bool, default=True\n",
            "        Whether or not to shuffle the data before splitting. If shuffle=False\n",
            "        then stratify must be None.\n",
            "    \n",
            "    stratify : array-like, default=None\n",
            "        If not None, data is split in a stratified fashion, using this as\n",
            "        the class labels.\n",
            "        Read more in the :ref:`User Guide <stratification>`.\n",
            "    \n",
            "    Returns\n",
            "    -------\n",
            "    splitting : list, length=2 * len(arrays)\n",
            "        List containing train-test split of inputs.\n",
            "    \n",
            "        .. versionadded:: 0.16\n",
            "            If the input is sparse, the output will be a\n",
            "            ``scipy.sparse.csr_matrix``. Else, output type is the same as the\n",
            "            input type.\n",
            "    \n",
            "    Examples\n",
            "    --------\n",
            "    >>> import numpy as np\n",
            "    >>> from sklearn.model_selection import train_test_split\n",
            "    >>> X, y = np.arange(10).reshape((5, 2)), range(5)\n",
            "    >>> X\n",
            "    array([[0, 1],\n",
            "           [2, 3],\n",
            "           [4, 5],\n",
            "           [6, 7],\n",
            "           [8, 9]])\n",
            "    >>> list(y)\n",
            "    [0, 1, 2, 3, 4]\n",
            "    \n",
            "    >>> X_train, X_test, y_train, y_test = train_test_split(\n",
            "    ...     X, y, test_size=0.33, random_state=42)\n",
            "    ...\n",
            "    >>> X_train\n",
            "    array([[4, 5],\n",
            "           [0, 1],\n",
            "           [6, 7]])\n",
            "    >>> y_train\n",
            "    [2, 0, 3]\n",
            "    >>> X_test\n",
            "    array([[2, 3],\n",
            "           [8, 9]])\n",
            "    >>> y_test\n",
            "    [1, 4]\n",
            "    \n",
            "    >>> train_test_split(y, shuffle=False)\n",
            "    [[0, 1, 2], [3, 4]]\n",
            "\n"
          ]
        }
      ]
    },
    {
      "cell_type": "code",
      "source": [
        "X_train, X_test, y_train, y_test = train_test_split(X, y, test_size=0.30, random_state=101)"
      ],
      "metadata": {
        "id": "ZKusBRguu4bO"
      },
      "execution_count": null,
      "outputs": []
    },
    {
      "cell_type": "code",
      "source": [
        "len(X_train)"
      ],
      "metadata": {
        "id": "_KsZ9YyTw5TE",
        "colab": {
          "base_uri": "https://localhost:8080/"
        },
        "outputId": "3d7a48f1-6260-437d-9da3-bb455aa639cb"
      },
      "execution_count": null,
      "outputs": [
        {
          "output_type": "execute_result",
          "data": {
            "text/plain": [
              "140"
            ]
          },
          "metadata": {},
          "execution_count": 272
        }
      ]
    },
    {
      "cell_type": "code",
      "source": [
        "len(y_test)"
      ],
      "metadata": {
        "id": "MxJHUav4w94l",
        "colab": {
          "base_uri": "https://localhost:8080/"
        },
        "outputId": "b0afea17-771b-459b-e19d-a173b955faa9"
      },
      "execution_count": null,
      "outputs": [
        {
          "output_type": "execute_result",
          "data": {
            "text/plain": [
              "60"
            ]
          },
          "metadata": {},
          "execution_count": 273
        }
      ]
    },
    {
      "cell_type": "markdown",
      "source": [
        "### Import and Create Model\n",
        "1. Simple Linear Regression"
      ],
      "metadata": {
        "id": "oBtQOaQcxRjc"
      }
    },
    {
      "cell_type": "code",
      "source": [
        "from sklearn.linear_model import LinearRegression"
      ],
      "metadata": {
        "id": "_hI4m6BDxAtr"
      },
      "execution_count": null,
      "outputs": []
    },
    {
      "cell_type": "code",
      "source": [
        "model = LinearRegression()"
      ],
      "metadata": {
        "id": "MOTtpNs-xYm-"
      },
      "execution_count": null,
      "outputs": []
    },
    {
      "cell_type": "code",
      "source": [
        "model.fit(X_train,y_train)"
      ],
      "metadata": {
        "id": "HCLaCCLTxcOk",
        "colab": {
          "base_uri": "https://localhost:8080/",
          "height": 74
        },
        "outputId": "2f1641a4-7ca5-4315-e2a6-a3b74fb1db14"
      },
      "execution_count": null,
      "outputs": [
        {
          "output_type": "execute_result",
          "data": {
            "text/plain": [
              "LinearRegression()"
            ],
            "text/html": [
              "<style>#sk-container-id-26 {color: black;background-color: white;}#sk-container-id-26 pre{padding: 0;}#sk-container-id-26 div.sk-toggleable {background-color: white;}#sk-container-id-26 label.sk-toggleable__label {cursor: pointer;display: block;width: 100%;margin-bottom: 0;padding: 0.3em;box-sizing: border-box;text-align: center;}#sk-container-id-26 label.sk-toggleable__label-arrow:before {content: \"▸\";float: left;margin-right: 0.25em;color: #696969;}#sk-container-id-26 label.sk-toggleable__label-arrow:hover:before {color: black;}#sk-container-id-26 div.sk-estimator:hover label.sk-toggleable__label-arrow:before {color: black;}#sk-container-id-26 div.sk-toggleable__content {max-height: 0;max-width: 0;overflow: hidden;text-align: left;background-color: #f0f8ff;}#sk-container-id-26 div.sk-toggleable__content pre {margin: 0.2em;color: black;border-radius: 0.25em;background-color: #f0f8ff;}#sk-container-id-26 input.sk-toggleable__control:checked~div.sk-toggleable__content {max-height: 200px;max-width: 100%;overflow: auto;}#sk-container-id-26 input.sk-toggleable__control:checked~label.sk-toggleable__label-arrow:before {content: \"▾\";}#sk-container-id-26 div.sk-estimator input.sk-toggleable__control:checked~label.sk-toggleable__label {background-color: #d4ebff;}#sk-container-id-26 div.sk-label input.sk-toggleable__control:checked~label.sk-toggleable__label {background-color: #d4ebff;}#sk-container-id-26 input.sk-hidden--visually {border: 0;clip: rect(1px 1px 1px 1px);clip: rect(1px, 1px, 1px, 1px);height: 1px;margin: -1px;overflow: hidden;padding: 0;position: absolute;width: 1px;}#sk-container-id-26 div.sk-estimator {font-family: monospace;background-color: #f0f8ff;border: 1px dotted black;border-radius: 0.25em;box-sizing: border-box;margin-bottom: 0.5em;}#sk-container-id-26 div.sk-estimator:hover {background-color: #d4ebff;}#sk-container-id-26 div.sk-parallel-item::after {content: \"\";width: 100%;border-bottom: 1px solid gray;flex-grow: 1;}#sk-container-id-26 div.sk-label:hover label.sk-toggleable__label {background-color: #d4ebff;}#sk-container-id-26 div.sk-serial::before {content: \"\";position: absolute;border-left: 1px solid gray;box-sizing: border-box;top: 0;bottom: 0;left: 50%;z-index: 0;}#sk-container-id-26 div.sk-serial {display: flex;flex-direction: column;align-items: center;background-color: white;padding-right: 0.2em;padding-left: 0.2em;position: relative;}#sk-container-id-26 div.sk-item {position: relative;z-index: 1;}#sk-container-id-26 div.sk-parallel {display: flex;align-items: stretch;justify-content: center;background-color: white;position: relative;}#sk-container-id-26 div.sk-item::before, #sk-container-id-26 div.sk-parallel-item::before {content: \"\";position: absolute;border-left: 1px solid gray;box-sizing: border-box;top: 0;bottom: 0;left: 50%;z-index: -1;}#sk-container-id-26 div.sk-parallel-item {display: flex;flex-direction: column;z-index: 1;position: relative;background-color: white;}#sk-container-id-26 div.sk-parallel-item:first-child::after {align-self: flex-end;width: 50%;}#sk-container-id-26 div.sk-parallel-item:last-child::after {align-self: flex-start;width: 50%;}#sk-container-id-26 div.sk-parallel-item:only-child::after {width: 0;}#sk-container-id-26 div.sk-dashed-wrapped {border: 1px dashed gray;margin: 0 0.4em 0.5em 0.4em;box-sizing: border-box;padding-bottom: 0.4em;background-color: white;}#sk-container-id-26 div.sk-label label {font-family: monospace;font-weight: bold;display: inline-block;line-height: 1.2em;}#sk-container-id-26 div.sk-label-container {text-align: center;}#sk-container-id-26 div.sk-container {/* jupyter's `normalize.less` sets `[hidden] { display: none; }` but bootstrap.min.css set `[hidden] { display: none !important; }` so we also need the `!important` here to be able to override the default hidden behavior on the sphinx rendered scikit-learn.org. See: https://github.com/scikit-learn/scikit-learn/issues/21755 */display: inline-block !important;position: relative;}#sk-container-id-26 div.sk-text-repr-fallback {display: none;}</style><div id=\"sk-container-id-26\" class=\"sk-top-container\"><div class=\"sk-text-repr-fallback\"><pre>LinearRegression()</pre><b>In a Jupyter environment, please rerun this cell to show the HTML representation or trust the notebook. <br />On GitHub, the HTML representation is unable to render, please try loading this page with nbviewer.org.</b></div><div class=\"sk-container\" hidden><div class=\"sk-item\"><div class=\"sk-estimator sk-toggleable\"><input class=\"sk-toggleable__control sk-hidden--visually\" id=\"sk-estimator-id-26\" type=\"checkbox\" checked><label for=\"sk-estimator-id-26\" class=\"sk-toggleable__label sk-toggleable__label-arrow\">LinearRegression</label><div class=\"sk-toggleable__content\"><pre>LinearRegression()</pre></div></div></div></div></div>"
            ]
          },
          "metadata": {},
          "execution_count": 276
        }
      ]
    },
    {
      "cell_type": "code",
      "source": [
        "test_predictions = model.predict(X_test)\n",
        "test_predictions"
      ],
      "metadata": {
        "id": "B3mC4nK-xhgQ",
        "colab": {
          "base_uri": "https://localhost:8080/"
        },
        "outputId": "a10cc45a-e2ee-440d-f14f-b6cf86d24bb1"
      },
      "execution_count": null,
      "outputs": [
        {
          "output_type": "execute_result",
          "data": {
            "text/plain": [
              "array([15.74131332, 19.61062568, 11.44888935, 17.00819787,  9.17285676,\n",
              "        7.01248287, 20.28992463, 17.29953992,  9.77584467, 19.22194224,\n",
              "       12.40503154, 13.89234998, 13.72541098, 21.28794031, 18.42456638,\n",
              "        9.98198406, 15.55228966,  7.68913693,  7.55614992, 20.40311209,\n",
              "        7.79215204, 18.24214098, 24.68631904, 22.82199068,  7.97962085,\n",
              "       12.65207264, 21.46925937,  8.05228573, 12.42315981, 12.50719678,\n",
              "       10.77757812, 19.24460093, 10.070269  ,  6.70779999, 17.31492147,\n",
              "        7.76764327,  9.25393336,  8.27834697, 10.58105585, 10.63591128,\n",
              "       13.01002595,  9.77192057, 10.21469861,  8.04572042, 11.5671075 ,\n",
              "       10.08368001,  8.99806574, 16.25388914, 13.23942315, 20.81493419,\n",
              "       12.49727439, 13.96615898, 17.56285075, 11.14537013, 12.56261468,\n",
              "        5.50870279, 23.29465134, 12.62409688, 18.77399978, 15.18785675])"
            ]
          },
          "metadata": {},
          "execution_count": 277
        }
      ]
    },
    {
      "cell_type": "markdown",
      "source": [
        "### Evaluation Metrics"
      ],
      "metadata": {
        "id": "ZEz6oFPbz1QE"
      }
    },
    {
      "cell_type": "code",
      "source": [
        "from sklearn.metrics import mean_absolute_error,mean_squared_error"
      ],
      "metadata": {
        "id": "XbxxiBNozyAR"
      },
      "execution_count": null,
      "outputs": []
    },
    {
      "cell_type": "code",
      "source": [
        "# Check Mean\n",
        "y_test.mean()"
      ],
      "metadata": {
        "id": "SmeD7BYwz-G_",
        "colab": {
          "base_uri": "https://localhost:8080/"
        },
        "outputId": "44160348-0691-4390-91ed-3aba972bac4e"
      },
      "execution_count": null,
      "outputs": [
        {
          "output_type": "execute_result",
          "data": {
            "text/plain": [
              "13.348333333333333"
            ]
          },
          "metadata": {},
          "execution_count": 279
        }
      ]
    },
    {
      "cell_type": "code",
      "source": [
        "# Check Histogram\n",
        "sns.histplot(data=y_test,bins=30,kde=True)"
      ],
      "metadata": {
        "id": "ZdL9CvvL0KCU",
        "colab": {
          "base_uri": "https://localhost:8080/",
          "height": 467
        },
        "outputId": "89e33499-a77d-44a3-ec73-6393a2f62fab"
      },
      "execution_count": null,
      "outputs": [
        {
          "output_type": "execute_result",
          "data": {
            "text/plain": [
              "<Axes: xlabel='Sales', ylabel='Count'>"
            ]
          },
          "metadata": {},
          "execution_count": 280
        },
        {
          "output_type": "display_data",
          "data": {
            "text/plain": [
              "<Figure size 640x480 with 1 Axes>"
            ],
            "image/png": "[encoded data removed]"
          },
          "metadata": {}
        }
      ]
    },
    {
      "cell_type": "code",
      "source": [
        "mean_absolute_error(y_test,test_predictions)"
      ],
      "metadata": {
        "id": "e3JcMfk70bij",
        "colab": {
          "base_uri": "https://localhost:8080/"
        },
        "outputId": "c738c740-3b64-4c2c-a0fc-2e84d4aea2db"
      },
      "execution_count": null,
      "outputs": [
        {
          "output_type": "execute_result",
          "data": {
            "text/plain": [
              "1.213745773614481"
            ]
          },
          "metadata": {},
          "execution_count": 281
        }
      ]
    },
    {
      "cell_type": "code",
      "source": [
        "mse = mean_squared_error(y_test,test_predictions)\n",
        "rmse = np.sqrt(mse)\n",
        "rmse"
      ],
      "metadata": {
        "id": "3shnCWP80yQP",
        "colab": {
          "base_uri": "https://localhost:8080/"
        },
        "outputId": "7e736272-5e5d-4b23-d8b0-5787d5ee2d03"
      },
      "execution_count": null,
      "outputs": [
        {
          "output_type": "execute_result",
          "data": {
            "text/plain": [
              "1.5161519375993884"
            ]
          },
          "metadata": {},
          "execution_count": 282
        }
      ]
    },
    {
      "cell_type": "markdown",
      "source": [
        "Dengan nilai MAE 1.213745773614481 dan RMSE 1.5161519375993884 kita perlu mengecek :\n",
        "\n",
        "**Relative MAE**\n",
        "\n",
        "Relative MAE adalah ukuran kesalahan prediksi yang dinyatakan sebagai persentase dari nilai rata-rata aktual. Ini memberikan gambaran tentang seberapa besar kesalahan prediksi relatif terhadap skala data.\n",
        "\n",
        "![Relative MAE.PNG](data:image/png;base64,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)\n",
        "\n",
        "Interpretasi:\n",
        "\n",
        "*   Relative MAE sebesar 9.10% berarti bahwa rata-rata kesalahan prediksi adalah sekitar 9.10% dari nilai rata-rata sales\n",
        "*   Kesalahan 9.10% dari rata-rata sales dapat dianggap kecil atau besar tergantung pada konteks bisnis dan toleransi kesalahan yang dapat diterima\n",
        "*   Jika bagi Perusahaan, kesalahan sekitar 8-10% dianggap wajar, maka MAE sebesar 1.213745773614481 menunjukkan performa model yang cukup baik. Namun, jika Perusahaan membutuhkan prediksi yang sangat akurat dengan kesalahan minimal, maka 9.10% perlu ditingkatkan\n",
        "\n",
        "\n",
        "**Relative RMSE**\n",
        "\n",
        "Sama seperti relative MAE, relative RMSE adalah ukuran kesalahan prediksi yang dinyatakan sebagai persentase dari nilai rata-rata aktual. Ini memberikan gambaran tentang seberapa besar kesalahan prediksi relatif terhadap skala data.\n",
        "\n",
        "![Relative RMSE.PNG](data:image/png;base64,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)\n",
        "\n",
        "Interpretasi:\n",
        "\n",
        "*   Relative RMSE sebesar 11.36% berarti bahwa rata-rata kesalahan prediksi (diukur dengan RMSE) adalah sekitar 11.36% dari nilai rata-rata sales\n",
        "*   Kesalahan 11.36% dari rata-rata sales dapat dianggap kecil atau besar tergantung pada konteks bisnis dan toleransi kesalahan yang dapat diterima\n",
        "*   Jika bagi Perusahaan, kesalahan di atas 10% dianggap wajar, maka RMSE sebesar 1.5161519375993884 menunjukkan performa model yang cukup baik. Namun, jika Perusahaan membutuhkan prediksi yang sangat akurat dengan kesalahan minimal, maka 11.36% perlu ditingkatkan.\n"
      ],
      "metadata": {
        "id": "JGagzwHk1p0q"
      }
    },
    {
      "cell_type": "markdown",
      "source": [
        "**Campaign Prediction**"
      ],
      "metadata": {
        "id": "BdLKrJaV5USg"
      }
    },
    {
      "cell_type": "code",
      "source": [
        "# Campaign : 149 TV, 22 Radio and 12 Newspaper\n",
        "# Sales?\n",
        "campaign = [[149,22,12]]"
      ],
      "metadata": {
        "id": "e976JSFG5ah9"
      },
      "execution_count": null,
      "outputs": []
    },
    {
      "cell_type": "code",
      "source": [
        "model.coef_"
      ],
      "metadata": {
        "id": "IGcuKY9U1IAi",
        "colab": {
          "base_uri": "https://localhost:8080/"
        },
        "outputId": "555a4915-adf3-4d0b-9517-4dd19e7dcf69"
      },
      "execution_count": null,
      "outputs": [
        {
          "output_type": "execute_result",
          "data": {
            "text/plain": [
              "array([ 0.04469599,  0.1875657 , -0.00032275])"
            ]
          },
          "metadata": {},
          "execution_count": 284
        }
      ]
    },
    {
      "cell_type": "code",
      "source": [
        "model.predict(campaign)"
      ],
      "metadata": {
        "id": "bf7Hj31j5fBa",
        "colab": {
          "base_uri": "https://localhost:8080/"
        },
        "outputId": "d996195d-b984-4cfe-ae4e-f2f6b6688621"
      },
      "execution_count": null,
      "outputs": [
        {
          "output_type": "stream",
          "name": "stderr",
          "text": [
            "/usr/local/lib/python3.10/dist-packages/sklearn/base.py:439: UserWarning: X does not have valid feature names, but LinearRegression was fitted with feature names\n",
            "  warnings.warn(\n"
          ]
        },
        {
          "output_type": "execute_result",
          "data": {
            "text/plain": [
              "array([13.93380216])"
            ]
          },
          "metadata": {},
          "execution_count": 285
        }
      ]
    },
    {
      "cell_type": "markdown",
      "source": [
        "Dengan campaign : 149 TV, 22 Radio dan 12 Newspaper diprediksi menghasilkan sales sebesar 13.93380216"
      ],
      "metadata": {
        "id": "WOj1fPCW5rsD"
      }
    },
    {
      "cell_type": "markdown",
      "source": [
        "### Import and Create Model\n",
        "\n",
        "2. Polynomial Linear Regression"
      ],
      "metadata": {
        "id": "q4hr5gcPUd94"
      }
    },
    {
      "cell_type": "code",
      "source": [
        "from sklearn.preprocessing import PolynomialFeatures"
      ],
      "metadata": {
        "id": "k9StH32YWAD_"
      },
      "execution_count": null,
      "outputs": []
    },
    {
      "cell_type": "code",
      "source": [
        "# Choose the Degree for Polynomial Linear Regression\n",
        "# Training error per degree\n",
        "train_rmse_errors = []\n",
        "# Test error per degree\n",
        "test_rmse_errors = []\n",
        "\n",
        "for d in range(1,10):\n",
        "  # Create Poly data set for degree \"d\"\n",
        "  polynomial_converter = PolynomialFeatures(degree=d,include_bias=False)\n",
        "  poly_features = polynomial_converter.fit_transform(X)\n",
        "\n",
        "  # Split this new poly data set\n",
        "  X_train, X_test, y_train, y_test = train_test_split(poly_features, y, test_size=0.30, random_state=101)\n",
        "\n",
        "  # Train on this new poly set\n",
        "  model = LinearRegression(fit_intercept=True)\n",
        "  model.fit(X_train,y_train)\n",
        "\n",
        "  # Predict on both train and test\n",
        "  train_pred = model.predict(X_train)\n",
        "  test_pred = model.predict(X_test)\n",
        "\n",
        "  # Calculate Errors\n",
        "  # Error on Train set\n",
        "  train_rmse = np.sqrt(mean_squared_error(y_train,train_pred))\n",
        "  # Error on Test set\n",
        "  test_rmse = np.sqrt(mean_squared_error(y_test,test_pred))\n",
        "\n",
        "  # Append error to lists for plotting latter\n",
        "  train_rmse_errors.append(train_rmse)\n",
        "  test_rmse_errors.append(test_rmse)"
      ],
      "metadata": {
        "id": "SHBt0dyZ5jkB"
      },
      "execution_count": null,
      "outputs": []
    },
    {
      "cell_type": "code",
      "source": [
        "plt.plot(range(1,10),train_rmse_errors,label='TRAIN')\n",
        "plt.plot(range(1,10),test_rmse_errors,label='TEST')\n",
        "plt.xlabel(\"Polynomial Complexity\")\n",
        "plt.ylabel(\"RMSE\")\n",
        "plt.legend()"
      ],
      "metadata": {
        "id": "VMeu1NTpb6kx",
        "colab": {
          "base_uri": "https://localhost:8080/",
          "height": 467
        },
        "outputId": "2e2b6093-fe29-4f84-dc17-5801437a602e"
      },
      "execution_count": null,
      "outputs": [
        {
          "output_type": "execute_result",
          "data": {
            "text/plain": [
              "<matplotlib.legend.Legend at 0x7c88c3525cf0>"
            ]
          },
          "metadata": {},
          "execution_count": 288
        },
        {
          "output_type": "display_data",
          "data": {
            "text/plain": [
              "<Figure size 640x480 with 1 Axes>"
            ],
            "image/png": "[encoded data removed]"
          },
          "metadata": {}
        }
      ]
    },
    {
      "cell_type": "code",
      "source": [
        "plt.plot(range(1,10),train_rmse_errors,label='TRAIN')\n",
        "plt.plot(range(1,10),test_rmse_errors,label='TEST')\n",
        "plt.xlabel(\"Polynomial Complexity\")\n",
        "plt.ylabel(\"RMSE\")\n",
        "plt.ylim(0,100)\n",
        "plt.legend()"
      ],
      "metadata": {
        "id": "f8RrjjkF82s8",
        "colab": {
          "base_uri": "https://localhost:8080/",
          "height": 473
        },
        "outputId": "aa319ad4-b693-4f95-e08b-8f5e8c6baab0"
      },
      "execution_count": null,
      "outputs": [
        {
          "output_type": "execute_result",
          "data": {
            "text/plain": [
              "<matplotlib.legend.Legend at 0x7c88c3417d90>"
            ]
          },
          "metadata": {},
          "execution_count": 289
        },
        {
          "output_type": "display_data",
          "data": {
            "text/plain": [
              "<Figure size 640x480 with 1 Axes>"
            ],
            "image/png": "[encoded data removed]"
          },
          "metadata": {}
        }
      ]
    },
    {
      "cell_type": "code",
      "source": [
        "plt.plot(range(1,6),train_rmse_errors[:5],label='TRAIN')\n",
        "plt.plot(range(1,6),test_rmse_errors[:5],label='TEST')\n",
        "plt.xlabel(\"Polynomial Complexity\")\n",
        "plt.ylabel(\"RMSE\")\n",
        "plt.legend()"
      ],
      "metadata": {
        "id": "fvAvINOwcOYs",
        "colab": {
          "base_uri": "https://localhost:8080/",
          "height": 467
        },
        "outputId": "70d58b9b-c380-45c4-f927-5bc88eba9761"
      },
      "execution_count": null,
      "outputs": [
        {
          "output_type": "execute_result",
          "data": {
            "text/plain": [
              "<matplotlib.legend.Legend at 0x7c88c32a5360>"
            ]
          },
          "metadata": {},
          "execution_count": 290
        },
        {
          "output_type": "display_data",
          "data": {
            "text/plain": [
              "<Figure size 640x480 with 1 Axes>"
            ],
            "image/png": "[encoded data removed]"
          },
          "metadata": {}
        }
      ]
    },
    {
      "cell_type": "markdown",
      "source": [
        "Bisa dilihat dari polt diatas bahwa degree terbaik (terendah) berada di degree 2 dan 3"
      ],
      "metadata": {
        "id": "_IN_ebSY96O6"
      }
    },
    {
      "cell_type": "markdown",
      "source": [
        "**Degree = 2**"
      ],
      "metadata": {
        "id": "55nszAXgGk56"
      }
    },
    {
      "cell_type": "code",
      "source": [
        "X = df.drop(['Date','Sales'],axis=1)\n",
        "y = df['Sales']"
      ],
      "metadata": {
        "id": "Hx5eJTgwe3fG"
      },
      "execution_count": null,
      "outputs": []
    },
    {
      "cell_type": "code",
      "source": [
        "# Set degree=2\n",
        "polynomial_converter_2 = PolynomialFeatures(degree=2,include_bias=False)\n",
        "polynomial_converter_2"
      ],
      "metadata": {
        "id": "0D-bwepf-PKt",
        "colab": {
          "base_uri": "https://localhost:8080/",
          "height": 74
        },
        "outputId": "e469938c-98fd-4961-999a-aecfa971993e"
      },
      "execution_count": null,
      "outputs": [
        {
          "output_type": "execute_result",
          "data": {
            "text/plain": [
              "PolynomialFeatures(include_bias=False)"
            ],
            "text/html": [
              "<style>#sk-container-id-27 {color: black;background-color: white;}#sk-container-id-27 pre{padding: 0;}#sk-container-id-27 div.sk-toggleable {background-color: white;}#sk-container-id-27 label.sk-toggleable__label {cursor: pointer;display: block;width: 100%;margin-bottom: 0;padding: 0.3em;box-sizing: border-box;text-align: center;}#sk-container-id-27 label.sk-toggleable__label-arrow:before {content: \"▸\";float: left;margin-right: 0.25em;color: #696969;}#sk-container-id-27 label.sk-toggleable__label-arrow:hover:before {color: black;}#sk-container-id-27 div.sk-estimator:hover label.sk-toggleable__label-arrow:before {color: black;}#sk-container-id-27 div.sk-toggleable__content {max-height: 0;max-width: 0;overflow: hidden;text-align: left;background-color: #f0f8ff;}#sk-container-id-27 div.sk-toggleable__content pre {margin: 0.2em;color: black;border-radius: 0.25em;background-color: #f0f8ff;}#sk-container-id-27 input.sk-toggleable__control:checked~div.sk-toggleable__content {max-height: 200px;max-width: 100%;overflow: auto;}#sk-container-id-27 input.sk-toggleable__control:checked~label.sk-toggleable__label-arrow:before {content: \"▾\";}#sk-container-id-27 div.sk-estimator input.sk-toggleable__control:checked~label.sk-toggleable__label {background-color: #d4ebff;}#sk-container-id-27 div.sk-label input.sk-toggleable__control:checked~label.sk-toggleable__label {background-color: #d4ebff;}#sk-container-id-27 input.sk-hidden--visually {border: 0;clip: rect(1px 1px 1px 1px);clip: rect(1px, 1px, 1px, 1px);height: 1px;margin: -1px;overflow: hidden;padding: 0;position: absolute;width: 1px;}#sk-container-id-27 div.sk-estimator {font-family: monospace;background-color: #f0f8ff;border: 1px dotted black;border-radius: 0.25em;box-sizing: border-box;margin-bottom: 0.5em;}#sk-container-id-27 div.sk-estimator:hover {background-color: #d4ebff;}#sk-container-id-27 div.sk-parallel-item::after {content: \"\";width: 100%;border-bottom: 1px solid gray;flex-grow: 1;}#sk-container-id-27 div.sk-label:hover label.sk-toggleable__label {background-color: #d4ebff;}#sk-container-id-27 div.sk-serial::before {content: \"\";position: absolute;border-left: 1px solid gray;box-sizing: border-box;top: 0;bottom: 0;left: 50%;z-index: 0;}#sk-container-id-27 div.sk-serial {display: flex;flex-direction: column;align-items: center;background-color: white;padding-right: 0.2em;padding-left: 0.2em;position: relative;}#sk-container-id-27 div.sk-item {position: relative;z-index: 1;}#sk-container-id-27 div.sk-parallel {display: flex;align-items: stretch;justify-content: center;background-color: white;position: relative;}#sk-container-id-27 div.sk-item::before, #sk-container-id-27 div.sk-parallel-item::before {content: \"\";position: absolute;border-left: 1px solid gray;box-sizing: border-box;top: 0;bottom: 0;left: 50%;z-index: -1;}#sk-container-id-27 div.sk-parallel-item {display: flex;flex-direction: column;z-index: 1;position: relative;background-color: white;}#sk-container-id-27 div.sk-parallel-item:first-child::after {align-self: flex-end;width: 50%;}#sk-container-id-27 div.sk-parallel-item:last-child::after {align-self: flex-start;width: 50%;}#sk-container-id-27 div.sk-parallel-item:only-child::after {width: 0;}#sk-container-id-27 div.sk-dashed-wrapped {border: 1px dashed gray;margin: 0 0.4em 0.5em 0.4em;box-sizing: border-box;padding-bottom: 0.4em;background-color: white;}#sk-container-id-27 div.sk-label label {font-family: monospace;font-weight: bold;display: inline-block;line-height: 1.2em;}#sk-container-id-27 div.sk-label-container {text-align: center;}#sk-container-id-27 div.sk-container {/* jupyter's `normalize.less` sets `[hidden] { display: none; }` but bootstrap.min.css set `[hidden] { display: none !important; }` so we also need the `!important` here to be able to override the default hidden behavior on the sphinx rendered scikit-learn.org. See: https://github.com/scikit-learn/scikit-learn/issues/21755 */display: inline-block !important;position: relative;}#sk-container-id-27 div.sk-text-repr-fallback {display: none;}</style><div id=\"sk-container-id-27\" class=\"sk-top-container\"><div class=\"sk-text-repr-fallback\"><pre>PolynomialFeatures(include_bias=False)</pre><b>In a Jupyter environment, please rerun this cell to show the HTML representation or trust the notebook. <br />On GitHub, the HTML representation is unable to render, please try loading this page with nbviewer.org.</b></div><div class=\"sk-container\" hidden><div class=\"sk-item\"><div class=\"sk-estimator sk-toggleable\"><input class=\"sk-toggleable__control sk-hidden--visually\" id=\"sk-estimator-id-27\" type=\"checkbox\" checked><label for=\"sk-estimator-id-27\" class=\"sk-toggleable__label sk-toggleable__label-arrow\">PolynomialFeatures</label><div class=\"sk-toggleable__content\"><pre>PolynomialFeatures(include_bias=False)</pre></div></div></div></div></div>"
            ]
          },
          "metadata": {},
          "execution_count": 292
        }
      ]
    },
    {
      "cell_type": "code",
      "source": [
        "full_converted_2 = polynomial_converter_2.fit_transform(X)\n",
        "full_converted_2"
      ],
      "metadata": {
        "id": "cnkUN8hbe8aY",
        "colab": {
          "base_uri": "https://localhost:8080/"
        },
        "outputId": "8829af8e-0b9f-42ad-8414-4284177efadf"
      },
      "execution_count": null,
      "outputs": [
        {
          "output_type": "execute_result",
          "data": {
            "text/plain": [
              "array([[ 230.1 ,   37.8 ,   69.2 , ..., 1428.84, 2615.76, 4788.64],\n",
              "       [  44.5 ,   39.3 ,   45.1 , ..., 1544.49, 1772.43, 2034.01],\n",
              "       [  17.2 ,   45.9 ,   69.3 , ..., 2106.81, 3180.87, 4802.49],\n",
              "       ...,\n",
              "       [ 177.  ,    9.3 ,    6.4 , ...,   86.49,   59.52,   40.96],\n",
              "       [ 283.6 ,   42.  ,   66.2 , ..., 1764.  , 2780.4 , 4382.44],\n",
              "       [ 232.1 ,    8.6 ,    8.7 , ...,   73.96,   74.82,   75.69]])"
            ]
          },
          "metadata": {},
          "execution_count": 293
        }
      ]
    },
    {
      "cell_type": "code",
      "source": [
        "full_converted_2[0]"
      ],
      "metadata": {
        "id": "4yo-n-0k_Gjw",
        "colab": {
          "base_uri": "https://localhost:8080/"
        },
        "outputId": "0301fa43-54e7-426d-db0a-23a64108102d"
      },
      "execution_count": null,
      "outputs": [
        {
          "output_type": "execute_result",
          "data": {
            "text/plain": [
              "array([2.301000e+02, 3.780000e+01, 6.920000e+01, 5.294601e+04,\n",
              "       8.697780e+03, 1.592292e+04, 1.428840e+03, 2.615760e+03,\n",
              "       4.788640e+03])"
            ]
          },
          "metadata": {},
          "execution_count": 294
        }
      ]
    },
    {
      "cell_type": "code",
      "source": [
        "poly_model = LinearRegression()\n",
        "poly_model"
      ],
      "metadata": {
        "id": "DSF4cejPA7Yw",
        "colab": {
          "base_uri": "https://localhost:8080/",
          "height": 74
        },
        "outputId": "79aad1bd-73ad-422b-866f-5dcc746bc5ca"
      },
      "execution_count": null,
      "outputs": [
        {
          "output_type": "execute_result",
          "data": {
            "text/plain": [
              "LinearRegression()"
            ],
            "text/html": [
              "<style>#sk-container-id-28 {color: black;background-color: white;}#sk-container-id-28 pre{padding: 0;}#sk-container-id-28 div.sk-toggleable {background-color: white;}#sk-container-id-28 label.sk-toggleable__label {cursor: pointer;display: block;width: 100%;margin-bottom: 0;padding: 0.3em;box-sizing: border-box;text-align: center;}#sk-container-id-28 label.sk-toggleable__label-arrow:before {content: \"▸\";float: left;margin-right: 0.25em;color: #696969;}#sk-container-id-28 label.sk-toggleable__label-arrow:hover:before {color: black;}#sk-container-id-28 div.sk-estimator:hover label.sk-toggleable__label-arrow:before {color: black;}#sk-container-id-28 div.sk-toggleable__content {max-height: 0;max-width: 0;overflow: hidden;text-align: left;background-color: #f0f8ff;}#sk-container-id-28 div.sk-toggleable__content pre {margin: 0.2em;color: black;border-radius: 0.25em;background-color: #f0f8ff;}#sk-container-id-28 input.sk-toggleable__control:checked~div.sk-toggleable__content {max-height: 200px;max-width: 100%;overflow: auto;}#sk-container-id-28 input.sk-toggleable__control:checked~label.sk-toggleable__label-arrow:before {content: \"▾\";}#sk-container-id-28 div.sk-estimator input.sk-toggleable__control:checked~label.sk-toggleable__label {background-color: #d4ebff;}#sk-container-id-28 div.sk-label input.sk-toggleable__control:checked~label.sk-toggleable__label {background-color: #d4ebff;}#sk-container-id-28 input.sk-hidden--visually {border: 0;clip: rect(1px 1px 1px 1px);clip: rect(1px, 1px, 1px, 1px);height: 1px;margin: -1px;overflow: hidden;padding: 0;position: absolute;width: 1px;}#sk-container-id-28 div.sk-estimator {font-family: monospace;background-color: #f0f8ff;border: 1px dotted black;border-radius: 0.25em;box-sizing: border-box;margin-bottom: 0.5em;}#sk-container-id-28 div.sk-estimator:hover {background-color: #d4ebff;}#sk-container-id-28 div.sk-parallel-item::after {content: \"\";width: 100%;border-bottom: 1px solid gray;flex-grow: 1;}#sk-container-id-28 div.sk-label:hover label.sk-toggleable__label {background-color: #d4ebff;}#sk-container-id-28 div.sk-serial::before {content: \"\";position: absolute;border-left: 1px solid gray;box-sizing: border-box;top: 0;bottom: 0;left: 50%;z-index: 0;}#sk-container-id-28 div.sk-serial {display: flex;flex-direction: column;align-items: center;background-color: white;padding-right: 0.2em;padding-left: 0.2em;position: relative;}#sk-container-id-28 div.sk-item {position: relative;z-index: 1;}#sk-container-id-28 div.sk-parallel {display: flex;align-items: stretch;justify-content: center;background-color: white;position: relative;}#sk-container-id-28 div.sk-item::before, #sk-container-id-28 div.sk-parallel-item::before {content: \"\";position: absolute;border-left: 1px solid gray;box-sizing: border-box;top: 0;bottom: 0;left: 50%;z-index: -1;}#sk-container-id-28 div.sk-parallel-item {display: flex;flex-direction: column;z-index: 1;position: relative;background-color: white;}#sk-container-id-28 div.sk-parallel-item:first-child::after {align-self: flex-end;width: 50%;}#sk-container-id-28 div.sk-parallel-item:last-child::after {align-self: flex-start;width: 50%;}#sk-container-id-28 div.sk-parallel-item:only-child::after {width: 0;}#sk-container-id-28 div.sk-dashed-wrapped {border: 1px dashed gray;margin: 0 0.4em 0.5em 0.4em;box-sizing: border-box;padding-bottom: 0.4em;background-color: white;}#sk-container-id-28 div.sk-label label {font-family: monospace;font-weight: bold;display: inline-block;line-height: 1.2em;}#sk-container-id-28 div.sk-label-container {text-align: center;}#sk-container-id-28 div.sk-container {/* jupyter's `normalize.less` sets `[hidden] { display: none; }` but bootstrap.min.css set `[hidden] { display: none !important; }` so we also need the `!important` here to be able to override the default hidden behavior on the sphinx rendered scikit-learn.org. See: https://github.com/scikit-learn/scikit-learn/issues/21755 */display: inline-block !important;position: relative;}#sk-container-id-28 div.sk-text-repr-fallback {display: none;}</style><div id=\"sk-container-id-28\" class=\"sk-top-container\"><div class=\"sk-text-repr-fallback\"><pre>LinearRegression()</pre><b>In a Jupyter environment, please rerun this cell to show the HTML representation or trust the notebook. <br />On GitHub, the HTML representation is unable to render, please try loading this page with nbviewer.org.</b></div><div class=\"sk-container\" hidden><div class=\"sk-item\"><div class=\"sk-estimator sk-toggleable\"><input class=\"sk-toggleable__control sk-hidden--visually\" id=\"sk-estimator-id-28\" type=\"checkbox\" checked><label for=\"sk-estimator-id-28\" class=\"sk-toggleable__label sk-toggleable__label-arrow\">LinearRegression</label><div class=\"sk-toggleable__content\"><pre>LinearRegression()</pre></div></div></div></div></div>"
            ]
          },
          "metadata": {},
          "execution_count": 295
        }
      ]
    },
    {
      "cell_type": "code",
      "source": [
        "poly_model.fit(full_converted_2,y)"
      ],
      "metadata": {
        "id": "m6zXcRws_P3d",
        "colab": {
          "base_uri": "https://localhost:8080/",
          "height": 74
        },
        "outputId": "edb4d3f2-3838-4fb3-869a-8f35d1bc8a61"
      },
      "execution_count": null,
      "outputs": [
        {
          "output_type": "execute_result",
          "data": {
            "text/plain": [
              "LinearRegression()"
            ],
            "text/html": [
              "<style>#sk-container-id-29 {color: black;background-color: white;}#sk-container-id-29 pre{padding: 0;}#sk-container-id-29 div.sk-toggleable {background-color: white;}#sk-container-id-29 label.sk-toggleable__label {cursor: pointer;display: block;width: 100%;margin-bottom: 0;padding: 0.3em;box-sizing: border-box;text-align: center;}#sk-container-id-29 label.sk-toggleable__label-arrow:before {content: \"▸\";float: left;margin-right: 0.25em;color: #696969;}#sk-container-id-29 label.sk-toggleable__label-arrow:hover:before {color: black;}#sk-container-id-29 div.sk-estimator:hover label.sk-toggleable__label-arrow:before {color: black;}#sk-container-id-29 div.sk-toggleable__content {max-height: 0;max-width: 0;overflow: hidden;text-align: left;background-color: #f0f8ff;}#sk-container-id-29 div.sk-toggleable__content pre {margin: 0.2em;color: black;border-radius: 0.25em;background-color: #f0f8ff;}#sk-container-id-29 input.sk-toggleable__control:checked~div.sk-toggleable__content {max-height: 200px;max-width: 100%;overflow: auto;}#sk-container-id-29 input.sk-toggleable__control:checked~label.sk-toggleable__label-arrow:before {content: \"▾\";}#sk-container-id-29 div.sk-estimator input.sk-toggleable__control:checked~label.sk-toggleable__label {background-color: #d4ebff;}#sk-container-id-29 div.sk-label input.sk-toggleable__control:checked~label.sk-toggleable__label {background-color: #d4ebff;}#sk-container-id-29 input.sk-hidden--visually {border: 0;clip: rect(1px 1px 1px 1px);clip: rect(1px, 1px, 1px, 1px);height: 1px;margin: -1px;overflow: hidden;padding: 0;position: absolute;width: 1px;}#sk-container-id-29 div.sk-estimator {font-family: monospace;background-color: #f0f8ff;border: 1px dotted black;border-radius: 0.25em;box-sizing: border-box;margin-bottom: 0.5em;}#sk-container-id-29 div.sk-estimator:hover {background-color: #d4ebff;}#sk-container-id-29 div.sk-parallel-item::after {content: \"\";width: 100%;border-bottom: 1px solid gray;flex-grow: 1;}#sk-container-id-29 div.sk-label:hover label.sk-toggleable__label {background-color: #d4ebff;}#sk-container-id-29 div.sk-serial::before {content: \"\";position: absolute;border-left: 1px solid gray;box-sizing: border-box;top: 0;bottom: 0;left: 50%;z-index: 0;}#sk-container-id-29 div.sk-serial {display: flex;flex-direction: column;align-items: center;background-color: white;padding-right: 0.2em;padding-left: 0.2em;position: relative;}#sk-container-id-29 div.sk-item {position: relative;z-index: 1;}#sk-container-id-29 div.sk-parallel {display: flex;align-items: stretch;justify-content: center;background-color: white;position: relative;}#sk-container-id-29 div.sk-item::before, #sk-container-id-29 div.sk-parallel-item::before {content: \"\";position: absolute;border-left: 1px solid gray;box-sizing: border-box;top: 0;bottom: 0;left: 50%;z-index: -1;}#sk-container-id-29 div.sk-parallel-item {display: flex;flex-direction: column;z-index: 1;position: relative;background-color: white;}#sk-container-id-29 div.sk-parallel-item:first-child::after {align-self: flex-end;width: 50%;}#sk-container-id-29 div.sk-parallel-item:last-child::after {align-self: flex-start;width: 50%;}#sk-container-id-29 div.sk-parallel-item:only-child::after {width: 0;}#sk-container-id-29 div.sk-dashed-wrapped {border: 1px dashed gray;margin: 0 0.4em 0.5em 0.4em;box-sizing: border-box;padding-bottom: 0.4em;background-color: white;}#sk-container-id-29 div.sk-label label {font-family: monospace;font-weight: bold;display: inline-block;line-height: 1.2em;}#sk-container-id-29 div.sk-label-container {text-align: center;}#sk-container-id-29 div.sk-container {/* jupyter's `normalize.less` sets `[hidden] { display: none; }` but bootstrap.min.css set `[hidden] { display: none !important; }` so we also need the `!important` here to be able to override the default hidden behavior on the sphinx rendered scikit-learn.org. See: https://github.com/scikit-learn/scikit-learn/issues/21755 */display: inline-block !important;position: relative;}#sk-container-id-29 div.sk-text-repr-fallback {display: none;}</style><div id=\"sk-container-id-29\" class=\"sk-top-container\"><div class=\"sk-text-repr-fallback\"><pre>LinearRegression()</pre><b>In a Jupyter environment, please rerun this cell to show the HTML representation or trust the notebook. <br />On GitHub, the HTML representation is unable to render, please try loading this page with nbviewer.org.</b></div><div class=\"sk-container\" hidden><div class=\"sk-item\"><div class=\"sk-estimator sk-toggleable\"><input class=\"sk-toggleable__control sk-hidden--visually\" id=\"sk-estimator-id-29\" type=\"checkbox\" checked><label for=\"sk-estimator-id-29\" class=\"sk-toggleable__label sk-toggleable__label-arrow\">LinearRegression</label><div class=\"sk-toggleable__content\"><pre>LinearRegression()</pre></div></div></div></div></div>"
            ]
          },
          "metadata": {},
          "execution_count": 296
        }
      ]
    },
    {
      "cell_type": "code",
      "source": [
        "test_predictions_2 = poly_model.predict(full_converted_2)\n",
        "test_predictions_2"
      ],
      "metadata": {
        "id": "g7nVCcPXCTgn",
        "colab": {
          "base_uri": "https://localhost:8080/"
        },
        "outputId": "e1b87965-8241-48af-8aab-d8521aae2bc8"
      },
      "execution_count": null,
      "outputs": [
        {
          "output_type": "execute_result",
          "data": {
            "text/plain": [
              "array([21.75653244, 10.49006203,  8.75953072, 18.60895946, 13.25055976,\n",
              "        8.15115465, 10.75890441, 12.80519827,  5.5922687 , 11.61838919,\n",
              "        8.68179159, 17.37976678,  8.67815936, 10.08642683, 19.33310101,\n",
              "       22.68643108, 12.67922006, 24.1486293 , 10.28415525, 14.81713812,\n",
              "       18.48220076, 12.53729122,  6.74897747, 15.76467294,  9.12500081,\n",
              "       12.08518549, 15.60426147, 15.92255869, 19.20659542, 10.02255592,\n",
              "       20.49479569, 12.23050394,  9.35019625, 17.4012628 ,  9.22124117,\n",
              "       12.18499002, 25.10682987, 14.09476449,  9.28655267, 21.61294763,\n",
              "       16.5590721 , 18.23261246, 20.44445003, 13.14115942,  8.00361731,\n",
              "       15.68717027, 10.18084631, 23.22677131, 15.40826561,  9.36935981,\n",
              "       11.72326053, 10.45414681, 22.21014243, 21.57696171, 20.10534626,\n",
              "       23.35052372,  6.75115377, 13.46202822, 24.04467393, 18.68538207,\n",
              "        7.79925047, 24.48206229, 15.55073576, 13.35421087, 17.41847322,\n",
              "        9.04550611,  8.06217513, 12.73184831, 19.02762624, 22.81346711,\n",
              "       18.5350192 , 11.60256066,  8.35158266, 10.92823122, 17.49166176,\n",
              "        8.84225579,  6.62932686, 14.25905034,  6.35589155, 10.8145588 ,\n",
              "       11.41893086, 12.21765894, 10.69509577, 12.9086199 , 22.4101834 ,\n",
              "       15.34988474, 11.46456255, 15.8423934 , 12.31840573, 16.82929663,\n",
              "       10.88832663,  6.75286142, 20.04902266, 22.13120175, 11.38151009,\n",
              "       17.21792142, 11.83710272, 15.67863413, 25.36522254, 17.58459269,\n",
              "       12.18184009, 23.31869295, 14.19473738, 14.88416341, 21.04322597,\n",
              "       18.71613965,  7.06501131,  8.96520232,  5.92645617, 19.34890574,\n",
              "       13.26604284, 22.25817061, 14.11570565, 16.33674501, 13.99205001,\n",
              "       12.4933202 , 12.72559299,  8.52919289, 16.30920906,  6.92371962,\n",
              "       15.17234429,  7.40250589, 11.75025329, 15.40483357, 20.15103212,\n",
              "       10.265008  ,  7.32917776,  8.55245961, 24.37525316,  9.07774433,\n",
              "        6.25068509, 11.78891924,  6.43795995, 20.11646712,  9.99796291,\n",
              "       11.1443274 ,  8.51512201, 20.30150014,  9.10477107, 21.00093732,\n",
              "       10.12063522, 19.58219073, 20.05631863, 10.17343356, 11.11164135,\n",
              "       10.51417121, 13.23041444, 25.64826881,  9.71561247,  9.21625392,\n",
              "       15.40770091, 11.16599192, 16.64822496, 19.34961356, 15.7920893 ,\n",
              "        5.65083747, 14.95470193, 10.61466274,  7.53069098, 13.18633711,\n",
              "       14.62699026, 13.31660601, 15.11219827, 18.19373751, 11.88505628,\n",
              "       11.90703154,  7.87260888, 12.33988689, 17.2827788 , 14.4368146 ,\n",
              "        8.40019774, 14.98240002,  7.09284314, 12.14829316, 12.01821817,\n",
              "       27.19077959, 20.14204394, 12.34374353, 11.60621068, 12.68901477,\n",
              "       10.98941796, 12.4918656 ,  8.27196342, 25.51892461, 17.52592205,\n",
              "       22.489915  , 10.55126578, 17.72238822, 15.57431142,  6.70489603,\n",
              "        9.8531708 ,  9.52757995,  6.3223736 , 19.48404504, 17.1596942 ,\n",
              "        7.21104288,  9.61819997, 12.81335709, 25.04103906, 13.53436396])"
            ]
          },
          "metadata": {},
          "execution_count": 297
        }
      ]
    },
    {
      "cell_type": "markdown",
      "source": [
        "Evaluation Metrics"
      ],
      "metadata": {
        "id": "NBjOXf1DEnhZ"
      }
    },
    {
      "cell_type": "code",
      "source": [
        "mean_absolute_error(y,test_predictions_2)"
      ],
      "metadata": {
        "id": "nUuEW2QCEcj3",
        "colab": {
          "base_uri": "https://localhost:8080/"
        },
        "outputId": "621847f6-928f-407c-d374-118163b1a205"
      },
      "execution_count": null,
      "outputs": [
        {
          "output_type": "execute_result",
          "data": {
            "text/plain": [
              "0.418382611942965"
            ]
          },
          "metadata": {},
          "execution_count": 298
        }
      ]
    },
    {
      "cell_type": "code",
      "source": [
        "rmse_2 = np.sqrt(mean_squared_error(y,test_predictions_2))\n",
        "rmse_2"
      ],
      "metadata": {
        "id": "QDz3Qoo8ExF-",
        "colab": {
          "base_uri": "https://localhost:8080/"
        },
        "outputId": "bc7230b3-b0d1-4939-efc2-4ab7b269fd55"
      },
      "execution_count": null,
      "outputs": [
        {
          "output_type": "execute_result",
          "data": {
            "text/plain": [
              "0.6045675916073581"
            ]
          },
          "metadata": {},
          "execution_count": 299
        }
      ]
    },
    {
      "cell_type": "markdown",
      "source": [
        "**Degree = 3**"
      ],
      "metadata": {
        "id": "wg9XJNgnGhMO"
      }
    },
    {
      "cell_type": "code",
      "source": [
        "# Set degree=3\n",
        "polynomial_converter_3 = PolynomialFeatures(degree=3,include_bias=False)"
      ],
      "metadata": {
        "id": "FX3P4O1jE8LZ"
      },
      "execution_count": null,
      "outputs": []
    },
    {
      "cell_type": "code",
      "source": [
        "full_converted_3 = polynomial_converter_3.fit_transform(X)\n",
        "full_converted_3"
      ],
      "metadata": {
        "id": "bWAMCSJ-Fiuu",
        "colab": {
          "base_uri": "https://localhost:8080/"
        },
        "outputId": "cb60611c-1a16-442d-f11e-86e98a0d9d22"
      },
      "execution_count": null,
      "outputs": [
        {
          "output_type": "execute_result",
          "data": {
            "text/plain": [
              "array([[2.30100000e+02, 3.78000000e+01, 6.92000000e+01, ...,\n",
              "        9.88757280e+04, 1.81010592e+05, 3.31373888e+05],\n",
              "       [4.45000000e+01, 3.93000000e+01, 4.51000000e+01, ...,\n",
              "        6.96564990e+04, 7.99365930e+04, 9.17338510e+04],\n",
              "       [1.72000000e+01, 4.59000000e+01, 6.93000000e+01, ...,\n",
              "        1.46001933e+05, 2.20434291e+05, 3.32812557e+05],\n",
              "       ...,\n",
              "       [1.77000000e+02, 9.30000000e+00, 6.40000000e+00, ...,\n",
              "        5.53536000e+02, 3.80928000e+02, 2.62144000e+02],\n",
              "       [2.83600000e+02, 4.20000000e+01, 6.62000000e+01, ...,\n",
              "        1.16776800e+05, 1.84062480e+05, 2.90117528e+05],\n",
              "       [2.32100000e+02, 8.60000000e+00, 8.70000000e+00, ...,\n",
              "        6.43452000e+02, 6.50934000e+02, 6.58503000e+02]])"
            ]
          },
          "metadata": {},
          "execution_count": 301
        }
      ]
    },
    {
      "cell_type": "code",
      "source": [
        "full_converted_3[0]"
      ],
      "metadata": {
        "id": "vZt7JJorFsWE",
        "colab": {
          "base_uri": "https://localhost:8080/"
        },
        "outputId": "38ec19cc-f6e0-4dbc-ab4a-0d66b0cc6e1d"
      },
      "execution_count": null,
      "outputs": [
        {
          "output_type": "execute_result",
          "data": {
            "text/plain": [
              "array([2.30100000e+02, 3.78000000e+01, 6.92000000e+01, 5.29460100e+04,\n",
              "       8.69778000e+03, 1.59229200e+04, 1.42884000e+03, 2.61576000e+03,\n",
              "       4.78864000e+03, 1.21828769e+07, 2.00135918e+06, 3.66386389e+06,\n",
              "       3.28776084e+05, 6.01886376e+05, 1.10186606e+06, 5.40101520e+04,\n",
              "       9.88757280e+04, 1.81010592e+05, 3.31373888e+05])"
            ]
          },
          "metadata": {},
          "execution_count": 302
        }
      ]
    },
    {
      "cell_type": "code",
      "source": [
        "poly_model.fit(full_converted_3,y)"
      ],
      "metadata": {
        "id": "tSCrkycBF72t",
        "colab": {
          "base_uri": "https://localhost:8080/",
          "height": 74
        },
        "outputId": "b8a5aae1-8009-4c56-eddf-9f60d5f08710"
      },
      "execution_count": null,
      "outputs": [
        {
          "output_type": "execute_result",
          "data": {
            "text/plain": [
              "LinearRegression()"
            ],
            "text/html": [
              "<style>#sk-container-id-30 {color: black;background-color: white;}#sk-container-id-30 pre{padding: 0;}#sk-container-id-30 div.sk-toggleable {background-color: white;}#sk-container-id-30 label.sk-toggleable__label {cursor: pointer;display: block;width: 100%;margin-bottom: 0;padding: 0.3em;box-sizing: border-box;text-align: center;}#sk-container-id-30 label.sk-toggleable__label-arrow:before {content: \"▸\";float: left;margin-right: 0.25em;color: #696969;}#sk-container-id-30 label.sk-toggleable__label-arrow:hover:before {color: black;}#sk-container-id-30 div.sk-estimator:hover label.sk-toggleable__label-arrow:before {color: black;}#sk-container-id-30 div.sk-toggleable__content {max-height: 0;max-width: 0;overflow: hidden;text-align: left;background-color: #f0f8ff;}#sk-container-id-30 div.sk-toggleable__content pre {margin: 0.2em;color: black;border-radius: 0.25em;background-color: #f0f8ff;}#sk-container-id-30 input.sk-toggleable__control:checked~div.sk-toggleable__content {max-height: 200px;max-width: 100%;overflow: auto;}#sk-container-id-30 input.sk-toggleable__control:checked~label.sk-toggleable__label-arrow:before {content: \"▾\";}#sk-container-id-30 div.sk-estimator input.sk-toggleable__control:checked~label.sk-toggleable__label {background-color: #d4ebff;}#sk-container-id-30 div.sk-label input.sk-toggleable__control:checked~label.sk-toggleable__label {background-color: #d4ebff;}#sk-container-id-30 input.sk-hidden--visually {border: 0;clip: rect(1px 1px 1px 1px);clip: rect(1px, 1px, 1px, 1px);height: 1px;margin: -1px;overflow: hidden;padding: 0;position: absolute;width: 1px;}#sk-container-id-30 div.sk-estimator {font-family: monospace;background-color: #f0f8ff;border: 1px dotted black;border-radius: 0.25em;box-sizing: border-box;margin-bottom: 0.5em;}#sk-container-id-30 div.sk-estimator:hover {background-color: #d4ebff;}#sk-container-id-30 div.sk-parallel-item::after {content: \"\";width: 100%;border-bottom: 1px solid gray;flex-grow: 1;}#sk-container-id-30 div.sk-label:hover label.sk-toggleable__label {background-color: #d4ebff;}#sk-container-id-30 div.sk-serial::before {content: \"\";position: absolute;border-left: 1px solid gray;box-sizing: border-box;top: 0;bottom: 0;left: 50%;z-index: 0;}#sk-container-id-30 div.sk-serial {display: flex;flex-direction: column;align-items: center;background-color: white;padding-right: 0.2em;padding-left: 0.2em;position: relative;}#sk-container-id-30 div.sk-item {position: relative;z-index: 1;}#sk-container-id-30 div.sk-parallel {display: flex;align-items: stretch;justify-content: center;background-color: white;position: relative;}#sk-container-id-30 div.sk-item::before, #sk-container-id-30 div.sk-parallel-item::before {content: \"\";position: absolute;border-left: 1px solid gray;box-sizing: border-box;top: 0;bottom: 0;left: 50%;z-index: -1;}#sk-container-id-30 div.sk-parallel-item {display: flex;flex-direction: column;z-index: 1;position: relative;background-color: white;}#sk-container-id-30 div.sk-parallel-item:first-child::after {align-self: flex-end;width: 50%;}#sk-container-id-30 div.sk-parallel-item:last-child::after {align-self: flex-start;width: 50%;}#sk-container-id-30 div.sk-parallel-item:only-child::after {width: 0;}#sk-container-id-30 div.sk-dashed-wrapped {border: 1px dashed gray;margin: 0 0.4em 0.5em 0.4em;box-sizing: border-box;padding-bottom: 0.4em;background-color: white;}#sk-container-id-30 div.sk-label label {font-family: monospace;font-weight: bold;display: inline-block;line-height: 1.2em;}#sk-container-id-30 div.sk-label-container {text-align: center;}#sk-container-id-30 div.sk-container {/* jupyter's `normalize.less` sets `[hidden] { display: none; }` but bootstrap.min.css set `[hidden] { display: none !important; }` so we also need the `!important` here to be able to override the default hidden behavior on the sphinx rendered scikit-learn.org. See: https://github.com/scikit-learn/scikit-learn/issues/21755 */display: inline-block !important;position: relative;}#sk-container-id-30 div.sk-text-repr-fallback {display: none;}</style><div id=\"sk-container-id-30\" class=\"sk-top-container\"><div class=\"sk-text-repr-fallback\"><pre>LinearRegression()</pre><b>In a Jupyter environment, please rerun this cell to show the HTML representation or trust the notebook. <br />On GitHub, the HTML representation is unable to render, please try loading this page with nbviewer.org.</b></div><div class=\"sk-container\" hidden><div class=\"sk-item\"><div class=\"sk-estimator sk-toggleable\"><input class=\"sk-toggleable__control sk-hidden--visually\" id=\"sk-estimator-id-30\" type=\"checkbox\" checked><label for=\"sk-estimator-id-30\" class=\"sk-toggleable__label sk-toggleable__label-arrow\">LinearRegression</label><div class=\"sk-toggleable__content\"><pre>LinearRegression()</pre></div></div></div></div></div>"
            ]
          },
          "metadata": {},
          "execution_count": 303
        }
      ]
    },
    {
      "cell_type": "code",
      "source": [
        "test_predictions_3 = poly_model.predict(full_converted_3)\n",
        "test_predictions_3"
      ],
      "metadata": {
        "id": "aKu1lM5hGOdO",
        "colab": {
          "base_uri": "https://localhost:8080/"
        },
        "outputId": "b6fc846e-32ff-4096-f86a-f597ce3bb6bb"
      },
      "execution_count": null,
      "outputs": [
        {
          "output_type": "execute_result",
          "data": {
            "text/plain": [
              "array([21.25112435, 10.76944735,  8.59682537, 18.59722382, 12.92558288,\n",
              "        7.77865309, 11.18644501, 13.18146173,  4.7981995 , 11.13217917,\n",
              "        9.00639182, 17.08711182,  8.70526428, 10.41256638, 18.9205079 ,\n",
              "       22.36128314, 12.44879662, 24.54599668, 10.77544525, 14.94028192,\n",
              "       18.05440055, 12.28790825,  6.55734691, 15.41824699,  9.50922543,\n",
              "       12.27172543, 15.88914464, 15.6599725 , 18.9921794 , 10.49158669,\n",
              "       21.45284941, 12.54024178,  9.5729147 , 17.42616748,  9.39835007,\n",
              "       13.07160232, 25.17126112, 14.66604832,  9.55679225, 21.23451218,\n",
              "       16.18204308, 18.02572281, 21.12198507, 12.72221257,  7.9898971 ,\n",
              "       15.47092435, 10.56801406, 22.95525549, 15.1405429 ,  9.79793406,\n",
              "       11.3301264 , 10.82862161, 21.81398801, 21.2989098 , 20.0680429 ,\n",
              "       22.97991215,  6.20415403, 13.65531944, 23.7339794 , 18.4148794 ,\n",
              "        7.98297683, 24.36915977, 15.3074978 , 13.99163963, 17.80801737,\n",
              "        9.44562549,  8.09070088, 12.85945623, 18.73787069, 22.4921279 ,\n",
              "       18.16536535, 11.91968027,  8.19620262, 10.97770968, 17.14799487,\n",
              "        8.75374834,  6.4604511 , 14.72307553,  5.46667021, 11.00271401,\n",
              "       11.96117289, 12.15930369, 11.18800192, 13.42233278, 22.0547362 ,\n",
              "       14.91341642, 12.03576454, 16.21006725, 12.67212157, 17.32583644,\n",
              "       10.86921678,  6.71408149, 19.57053712, 21.8467011 , 11.76586304,\n",
              "       17.05327223, 11.29601876, 15.40860056, 25.96542329, 17.82635129,\n",
              "       12.00352366, 24.18050731, 14.83507268, 14.57441093, 20.82990215,\n",
              "       18.90760598,  6.99460247,  9.17095134,  5.46662928, 19.22602307,\n",
              "       13.10293679, 21.96265666, 13.95442949, 15.98235596, 14.56597791,\n",
              "       13.01644361, 12.79372113,  8.74416991, 16.34066089,  6.67318662,\n",
              "       15.24632643,  7.31955462, 11.28819621, 15.93098402, 19.63307932,\n",
              "       10.67527096,  6.75359243,  8.73243096, 24.36392955,  9.49976253,\n",
              "        4.97425818, 12.43786653,  5.69864851, 19.69043418, 10.2470956 ,\n",
              "       11.42427146,  8.25767175, 20.69149251,  9.34189088, 21.20538734,\n",
              "       10.61055958, 18.99767236, 19.64904199, 10.42724348, 11.51360037,\n",
              "       10.36372911, 12.88430804, 25.32859045,  9.79073642,  9.48106783,\n",
              "       16.21637665, 11.32287503, 16.35076712, 19.24488046, 15.565372  ,\n",
              "        4.81116008, 15.49571071, 10.39754852,  7.05505001, 13.34574928,\n",
              "       14.40806799, 13.84153495, 14.7904758 , 18.4221339 , 12.24846316,\n",
              "       11.91756832,  7.40025085, 11.86622452, 16.86205545, 14.99310719,\n",
              "        8.67245989, 14.79905887,  6.810915  , 11.85599645, 11.5336319 ,\n",
              "       27.34344849, 19.91210044, 12.07491555, 12.29881079, 12.4643974 ,\n",
              "       10.70487537, 12.10790854,  8.57199763, 26.08582383, 17.44743062,\n",
              "       22.294179  , 10.44533828, 17.48769378, 16.12951707,  6.44218279,\n",
              "        9.98638386,  9.956138  ,  6.06224896, 19.81063074, 17.53762241,\n",
              "        7.21155075,  9.89234803, 12.50278394, 25.48900073, 13.12554441])"
            ]
          },
          "metadata": {},
          "execution_count": 304
        }
      ]
    },
    {
      "cell_type": "code",
      "source": [
        "df['predictions'] = poly_model.predict(full_converted_3)\n",
        "df"
      ],
      "metadata": {
        "id": "Qoani46bckg1",
        "colab": {
          "base_uri": "https://localhost:8080/",
          "height": 424
        },
        "outputId": "07f68036-45ca-4822-b0e9-ea855c13347f"
      },
      "execution_count": null,
      "outputs": [
        {
          "output_type": "execute_result",
          "data": {
            "text/plain": [
              "           Date     TV  Radio  Newspaper  Sales  predictions\n",
              "0      1/1/2015  230.1   37.8       69.2   22.1    21.251124\n",
              "1      1/8/2015   44.5   39.3       45.1   10.4    10.769447\n",
              "2     1/15/2015   17.2   45.9       69.3    9.3     8.596825\n",
              "3     1/22/2015  151.5   41.3       58.5   18.5    18.597224\n",
              "4     1/29/2015  180.8   10.8       58.4   12.9    12.925583\n",
              "..          ...    ...    ...        ...    ...          ...\n",
              "195   9/27/2018   38.2    3.7       13.8    7.6     7.211551\n",
              "196   10/4/2018   94.2    4.9        8.1    9.7     9.892348\n",
              "197  10/11/2018  177.0    9.3        6.4   12.8    12.502784\n",
              "198  10/18/2018  283.6   42.0       66.2   25.5    25.489001\n",
              "199  10/25/2018  232.1    8.6        8.7   13.4    13.125544\n",
              "\n",
              "[200 rows x 6 columns]"
            ],
            "text/html": [
              "\n",
              "  <div id=\"df-aa6d3bd0-61c1-443d-80a3-c44e29e4caba\" class=\"colab-df-container\">\n",
              "    <div>\n",
              "<style scoped>\n",
              "    .dataframe tbody tr th:only-of-type {\n",
              "        vertical-align: middle;\n",
              "    }\n",
              "\n",
              "    .dataframe tbody tr th {\n",
              "        vertical-align: top;\n",
              "    }\n",
              "\n",
              "    .dataframe thead th {\n",
              "        text-align: right;\n",
              "    }\n",
              "</style>\n",
              "<table border=\"1\" class=\"dataframe\">\n",
              "  <thead>\n",
              "    <tr style=\"text-align: right;\">\n",
              "      <th></th>\n",
              "      <th>Date</th>\n",
              "      <th>TV</th>\n",
              "      <th>Radio</th>\n",
              "      <th>Newspaper</th>\n",
              "      <th>Sales</th>\n",
              "      <th>predictions</th>\n",
              "    </tr>\n",
              "  </thead>\n",
              "  <tbody>\n",
              "    <tr>\n",
              "      <th>0</th>\n",
              "      <td>1/1/2015</td>\n",
              "      <td>230.1</td>\n",
              "      <td>37.8</td>\n",
              "      <td>69.2</td>\n",
              "      <td>22.1</td>\n",
              "      <td>21.251124</td>\n",
              "    </tr>\n",
              "    <tr>\n",
              "      <th>1</th>\n",
              "      <td>1/8/2015</td>\n",
              "      <td>44.5</td>\n",
              "      <td>39.3</td>\n",
              "      <td>45.1</td>\n",
              "      <td>10.4</td>\n",
              "      <td>10.769447</td>\n",
              "    </tr>\n",
              "    <tr>\n",
              "      <th>2</th>\n",
              "      <td>1/15/2015</td>\n",
              "      <td>17.2</td>\n",
              "      <td>45.9</td>\n",
              "      <td>69.3</td>\n",
              "      <td>9.3</td>\n",
              "      <td>8.596825</td>\n",
              "    </tr>\n",
              "    <tr>\n",
              "      <th>3</th>\n",
              "      <td>1/22/2015</td>\n",
              "      <td>151.5</td>\n",
              "      <td>41.3</td>\n",
              "      <td>58.5</td>\n",
              "      <td>18.5</td>\n",
              "      <td>18.597224</td>\n",
              "    </tr>\n",
              "    <tr>\n",
              "      <th>4</th>\n",
              "      <td>1/29/2015</td>\n",
              "      <td>180.8</td>\n",
              "      <td>10.8</td>\n",
              "      <td>58.4</td>\n",
              "      <td>12.9</td>\n",
              "      <td>12.925583</td>\n",
              "    </tr>\n",
              "    <tr>\n",
              "      <th>...</th>\n",
              "      <td>...</td>\n",
              "      <td>...</td>\n",
              "      <td>...</td>\n",
              "      <td>...</td>\n",
              "      <td>...</td>\n",
              "      <td>...</td>\n",
              "    </tr>\n",
              "    <tr>\n",
              "      <th>195</th>\n",
              "      <td>9/27/2018</td>\n",
              "      <td>38.2</td>\n",
              "      <td>3.7</td>\n",
              "      <td>13.8</td>\n",
              "      <td>7.6</td>\n",
              "      <td>7.211551</td>\n",
              "    </tr>\n",
              "    <tr>\n",
              "      <th>196</th>\n",
              "      <td>10/4/2018</td>\n",
              "      <td>94.2</td>\n",
              "      <td>4.9</td>\n",
              "      <td>8.1</td>\n",
              "      <td>9.7</td>\n",
              "      <td>9.892348</td>\n",
              "    </tr>\n",
              "    <tr>\n",
              "      <th>197</th>\n",
              "      <td>10/11/2018</td>\n",
              "      <td>177.0</td>\n",
              "      <td>9.3</td>\n",
              "      <td>6.4</td>\n",
              "      <td>12.8</td>\n",
              "      <td>12.502784</td>\n",
              "    </tr>\n",
              "    <tr>\n",
              "      <th>198</th>\n",
              "      <td>10/18/2018</td>\n",
              "      <td>283.6</td>\n",
              "      <td>42.0</td>\n",
              "      <td>66.2</td>\n",
              "      <td>25.5</td>\n",
              "      <td>25.489001</td>\n",
              "    </tr>\n",
              "    <tr>\n",
              "      <th>199</th>\n",
              "      <td>10/25/2018</td>\n",
              "      <td>232.1</td>\n",
              "      <td>8.6</td>\n",
              "      <td>8.7</td>\n",
              "      <td>13.4</td>\n",
              "      <td>13.125544</td>\n",
              "    </tr>\n",
              "  </tbody>\n",
              "</table>\n",
              "<p>200 rows × 6 columns</p>\n",
              "</div>\n",
              "    <div class=\"colab-df-buttons\">\n",
              "\n",
              "  <div class=\"colab-df-container\">\n",
              "    <button class=\"colab-df-convert\" onclick=\"convertToInteractive('df-aa6d3bd0-61c1-443d-80a3-c44e29e4caba')\"\n",
              "            title=\"Convert this dataframe to an interactive table.\"\n",
              "            style=\"display:none;\">\n",
              "\n",
              "  <svg xmlns=\"http://www.w3.org/2000/svg\" height=\"24px\" viewBox=\"0 -960 960 960\">\n",
              "    <path d=\"M120-120v-720h720v720H120Zm60-500h600v-160H180v160Zm220 220h160v-160H400v160Zm0 220h160v-160H400v160ZM180-400h160v-160H180v160Zm440 0h160v-160H620v160ZM180-180h160v-160H180v160Zm440 0h160v-160H620v160Z\"/>\n",
              "  </svg>\n",
              "    </button>\n",
              "\n",
              "  <style>\n",
              "    .colab-df-container {\n",
              "      display:flex;\n",
              "      gap: 12px;\n",
              "    }\n",
              "\n",
              "    .colab-df-convert {\n",
              "      background-color: #E8F0FE;\n",
              "      border: none;\n",
              "      border-radius: 50%;\n",
              "      cursor: pointer;\n",
              "      display: none;\n",
              "      fill: #1967D2;\n",
              "      height: 32px;\n",
              "      padding: 0 0 0 0;\n",
              "      width: 32px;\n",
              "    }\n",
              "\n",
              "    .colab-df-convert:hover {\n",
              "      background-color: #E2EBFA;\n",
              "      box-shadow: 0px 1px 2px rgba(60, 64, 67, 0.3), 0px 1px 3px 1px rgba(60, 64, 67, 0.15);\n",
              "      fill: #174EA6;\n",
              "    }\n",
              "\n",
              "    .colab-df-buttons div {\n",
              "      margin-bottom: 4px;\n",
              "    }\n",
              "\n",
              "    [theme=dark] .colab-df-convert {\n",
              "      background-color: #3B4455;\n",
              "      fill: #D2E3FC;\n",
              "    }\n",
              "\n",
              "    [theme=dark] .colab-df-convert:hover {\n",
              "      background-color: #434B5C;\n",
              "      box-shadow: 0px 1px 3px 1px rgba(0, 0, 0, 0.15);\n",
              "      filter: drop-shadow(0px 1px 2px rgba(0, 0, 0, 0.3));\n",
              "      fill: #FFFFFF;\n",
              "    }\n",
              "  </style>\n",
              "\n",
              "    <script>\n",
              "      const buttonEl =\n",
              "        document.querySelector('#df-aa6d3bd0-61c1-443d-80a3-c44e29e4caba button.colab-df-convert');\n",
              "      buttonEl.style.display =\n",
              "        google.colab.kernel.accessAllowed ? 'block' : 'none';\n",
              "\n",
              "      async function convertToInteractive(key) {\n",
              "        const element = document.querySelector('#df-aa6d3bd0-61c1-443d-80a3-c44e29e4caba');\n",
              "        const dataTable =\n",
              "          await google.colab.kernel.invokeFunction('convertToInteractive',\n",
              "                                                    [key], {});\n",
              "        if (!dataTable) return;\n",
              "\n",
              "        const docLinkHtml = 'Like what you see? Visit the ' +\n",
              "          '<a target=\"_blank\" href=https://colab.research.google.com/notebooks/data_table.ipynb>data table notebook</a>'\n",
              "          + ' to learn more about interactive tables.';\n",
              "        element.innerHTML = '';\n",
              "        dataTable['output_type'] = 'display_data';\n",
              "        await google.colab.output.renderOutput(dataTable, element);\n",
              "        const docLink = document.createElement('div');\n",
              "        docLink.innerHTML = docLinkHtml;\n",
              "        element.appendChild(docLink);\n",
              "      }\n",
              "    </script>\n",
              "  </div>\n",
              "\n",
              "\n",
              "<div id=\"df-c944af3c-728c-47c9-82c7-d536757d620a\">\n",
              "  <button class=\"colab-df-quickchart\" onclick=\"quickchart('df-c944af3c-728c-47c9-82c7-d536757d620a')\"\n",
              "            title=\"Suggest charts\"\n",
              "            style=\"display:none;\">\n",
              "\n",
              "<svg xmlns=\"http://www.w3.org/2000/svg\" height=\"24px\"viewBox=\"0 0 24 24\"\n",
              "     width=\"24px\">\n",
              "    <g>\n",
              "        <path d=\"M19 3H5c-1.1 0-2 .9-2 2v14c0 1.1.9 2 2 2h14c1.1 0 2-.9 2-2V5c0-1.1-.9-2-2-2zM9 17H7v-7h2v7zm4 0h-2V7h2v10zm4 0h-2v-4h2v4z\"/>\n",
              "    </g>\n",
              "</svg>\n",
              "  </button>\n",
              "\n",
              "<style>\n",
              "  .colab-df-quickchart {\n",
              "      --bg-color: #E8F0FE;\n",
              "      --fill-color: #1967D2;\n",
              "      --hover-bg-color: #E2EBFA;\n",
              "      --hover-fill-color: #174EA6;\n",
              "      --disabled-fill-color: #AAA;\n",
              "      --disabled-bg-color: #DDD;\n",
              "  }\n",
              "\n",
              "  [theme=dark] .colab-df-quickchart {\n",
              "      --bg-color: #3B4455;\n",
              "      --fill-color: #D2E3FC;\n",
              "      --hover-bg-color: #434B5C;\n",
              "      --hover-fill-color: #FFFFFF;\n",
              "      --disabled-bg-color: #3B4455;\n",
              "      --disabled-fill-color: #666;\n",
              "  }\n",
              "\n",
              "  .colab-df-quickchart {\n",
              "    background-color: var(--bg-color);\n",
              "    border: none;\n",
              "    border-radius: 50%;\n",
              "    cursor: pointer;\n",
              "    display: none;\n",
              "    fill: var(--fill-color);\n",
              "    height: 32px;\n",
              "    padding: 0;\n",
              "    width: 32px;\n",
              "  }\n",
              "\n",
              "  .colab-df-quickchart:hover {\n",
              "    background-color: var(--hover-bg-color);\n",
              "    box-shadow: 0 1px 2px rgba(60, 64, 67, 0.3), 0 1px 3px 1px rgba(60, 64, 67, 0.15);\n",
              "    fill: var(--button-hover-fill-color);\n",
              "  }\n",
              "\n",
              "  .colab-df-quickchart-complete:disabled,\n",
              "  .colab-df-quickchart-complete:disabled:hover {\n",
              "    background-color: var(--disabled-bg-color);\n",
              "    fill: var(--disabled-fill-color);\n",
              "    box-shadow: none;\n",
              "  }\n",
              "\n",
              "  .colab-df-spinner {\n",
              "    border: 2px solid var(--fill-color);\n",
              "    border-color: transparent;\n",
              "    border-bottom-color: var(--fill-color);\n",
              "    animation:\n",
              "      spin 1s steps(1) infinite;\n",
              "  }\n",
              "\n",
              "  @keyframes spin {\n",
              "    0% {\n",
              "      border-color: transparent;\n",
              "      border-bottom-color: var(--fill-color);\n",
              "      border-left-color: var(--fill-color);\n",
              "    }\n",
              "    20% {\n",
              "      border-color: transparent;\n",
              "      border-left-color: var(--fill-color);\n",
              "      border-top-color: var(--fill-color);\n",
              "    }\n",
              "    30% {\n",
              "      border-color: transparent;\n",
              "      border-left-color: var(--fill-color);\n",
              "      border-top-color: var(--fill-color);\n",
              "      border-right-color: var(--fill-color);\n",
              "    }\n",
              "    40% {\n",
              "      border-color: transparent;\n",
              "      border-right-color: var(--fill-color);\n",
              "      border-top-color: var(--fill-color);\n",
              "    }\n",
              "    60% {\n",
              "      border-color: transparent;\n",
              "      border-right-color: var(--fill-color);\n",
              "    }\n",
              "    80% {\n",
              "      border-color: transparent;\n",
              "      border-right-color: var(--fill-color);\n",
              "      border-bottom-color: var(--fill-color);\n",
              "    }\n",
              "    90% {\n",
              "      border-color: transparent;\n",
              "      border-bottom-color: var(--fill-color);\n",
              "    }\n",
              "  }\n",
              "</style>\n",
              "\n",
              "  <script>\n",
              "    async function quickchart(key) {\n",
              "      const quickchartButtonEl =\n",
              "        document.querySelector('#' + key + ' button');\n",
              "      quickchartButtonEl.disabled = true;  // To prevent multiple clicks.\n",
              "      quickchartButtonEl.classList.add('colab-df-spinner');\n",
              "      try {\n",
              "        const charts = await google.colab.kernel.invokeFunction(\n",
              "            'suggestCharts', [key], {});\n",
              "      } catch (error) {\n",
              "        console.error('Error during call to suggestCharts:', error);\n",
              "      }\n",
              "      quickchartButtonEl.classList.remove('colab-df-spinner');\n",
              "      quickchartButtonEl.classList.add('colab-df-quickchart-complete');\n",
              "    }\n",
              "    (() => {\n",
              "      let quickchartButtonEl =\n",
              "        document.querySelector('#df-c944af3c-728c-47c9-82c7-d536757d620a button');\n",
              "      quickchartButtonEl.style.display =\n",
              "        google.colab.kernel.accessAllowed ? 'block' : 'none';\n",
              "    })();\n",
              "  </script>\n",
              "</div>\n",
              "\n",
              "  <div id=\"id_a1d649a5-c299-4780-b820-881f0cafa8bd\">\n",
              "    <style>\n",
              "      .colab-df-generate {\n",
              "        background-color: #E8F0FE;\n",
              "        border: none;\n",
              "        border-radius: 50%;\n",
              "        cursor: pointer;\n",
              "        display: none;\n",
              "        fill: #1967D2;\n",
              "        height: 32px;\n",
              "        padding: 0 0 0 0;\n",
              "        width: 32px;\n",
              "      }\n",
              "\n",
              "      .colab-df-generate:hover {\n",
              "        background-color: #E2EBFA;\n",
              "        box-shadow: 0px 1px 2px rgba(60, 64, 67, 0.3), 0px 1px 3px 1px rgba(60, 64, 67, 0.15);\n",
              "        fill: #174EA6;\n",
              "      }\n",
              "\n",
              "      [theme=dark] .colab-df-generate {\n",
              "        background-color: #3B4455;\n",
              "        fill: #D2E3FC;\n",
              "      }\n",
              "\n",
              "      [theme=dark] .colab-df-generate:hover {\n",
              "        background-color: #434B5C;\n",
              "        box-shadow: 0px 1px 3px 1px rgba(0, 0, 0, 0.15);\n",
              "        filter: drop-shadow(0px 1px 2px rgba(0, 0, 0, 0.3));\n",
              "        fill: #FFFFFF;\n",
              "      }\n",
              "    </style>\n",
              "    <button class=\"colab-df-generate\" onclick=\"generateWithVariable('df')\"\n",
              "            title=\"Generate code using this dataframe.\"\n",
              "            style=\"display:none;\">\n",
              "\n",
              "  <svg xmlns=\"http://www.w3.org/2000/svg\" height=\"24px\"viewBox=\"0 0 24 24\"\n",
              "       width=\"24px\">\n",
              "    <path d=\"M7,19H8.4L18.45,9,17,7.55,7,17.6ZM5,21V16.75L18.45,3.32a2,2,0,0,1,2.83,0l1.4,1.43a1.91,1.91,0,0,1,.58,1.4,1.91,1.91,0,0,1-.58,1.4L9.25,21ZM18.45,9,17,7.55Zm-12,3A5.31,5.31,0,0,0,4.9,8.1,5.31,5.31,0,0,0,1,6.5,5.31,5.31,0,0,0,4.9,4.9,5.31,5.31,0,0,0,6.5,1,5.31,5.31,0,0,0,8.1,4.9,5.31,5.31,0,0,0,12,6.5,5.46,5.46,0,0,0,6.5,12Z\"/>\n",
              "  </svg>\n",
              "    </button>\n",
              "    <script>\n",
              "      (() => {\n",
              "      const buttonEl =\n",
              "        document.querySelector('#id_a1d649a5-c299-4780-b820-881f0cafa8bd button.colab-df-generate');\n",
              "      buttonEl.style.display =\n",
              "        google.colab.kernel.accessAllowed ? 'block' : 'none';\n",
              "\n",
              "      buttonEl.onclick = () => {\n",
              "        google.colab.notebook.generateWithVariable('df');\n",
              "      }\n",
              "      })();\n",
              "    </script>\n",
              "  </div>\n",
              "\n",
              "    </div>\n",
              "  </div>\n"
            ],
            "application/vnd.google.colaboratory.intrinsic+json": {
              "type": "dataframe",
              "variable_name": "df",
              "summary": "{\n  \"name\": \"df\",\n  \"rows\": 200,\n  \"fields\": [\n    {\n      \"column\": \"Date\",\n      \"properties\": {\n        \"dtype\": \"object\",\n        \"num_unique_values\": 200,\n        \"samples\": [\n          \"10/27/2016\",\n          \"4/16/2015\",\n          \"7/30/2015\"\n        ],\n        \"semantic_type\": \"\",\n        \"description\": \"\"\n      }\n    },\n    {\n      \"column\": \"TV\",\n      \"properties\": {\n        \"dtype\": \"number\",\n        \"std\": 85.85423631490808,\n        \"min\": 0.7,\n        \"max\": 296.4,\n        \"num_unique_values\": 190,\n        \"samples\": [\n          287.6,\n          286.0,\n          78.2\n        ],\n        \"semantic_type\": \"\",\n        \"description\": \"\"\n      }\n    },\n    {\n      \"column\": \"Radio\",\n      \"properties\": {\n        \"dtype\": \"number\",\n        \"std\": 14.846809176168724,\n        \"min\": 0.0,\n        \"max\": 49.6,\n        \"num_unique_values\": 167,\n        \"samples\": [\n          8.2,\n          36.9,\n          44.5\n        ],\n        \"semantic_type\": \"\",\n        \"description\": \"\"\n      }\n    },\n    {\n      \"column\": \"Newspaper\",\n      \"properties\": {\n        \"dtype\": \"number\",\n        \"std\": 21.778620838522826,\n        \"min\": 0.3,\n        \"max\": 114.0,\n        \"num_unique_values\": 172,\n        \"samples\": [\n          22.3,\n          5.7,\n          17.0\n        ],\n        \"semantic_type\": \"\",\n        \"description\": \"\"\n      }\n    },\n    {\n      \"column\": \"Sales\",\n      \"properties\": {\n        \"dtype\": \"number\",\n        \"std\": 5.217456565710478,\n        \"min\": 1.6,\n        \"max\": 27.0,\n        \"num_unique_values\": 121,\n        \"samples\": [\n          11.4,\n          21.2,\n          12.9\n        ],\n        \"semantic_type\": \"\",\n        \"description\": \"\"\n      }\n    },\n    {\n      \"column\": \"predictions\",\n      \"properties\": {\n        \"dtype\": \"number\",\n        \"std\": 5.196742422354879,\n        \"min\": 4.798199504953964,\n        \"max\": 27.3434484924626,\n        \"num_unique_values\": 200,\n        \"samples\": [\n          17.053272234416283,\n          22.36128314480547,\n          21.452849412153896\n        ],\n        \"semantic_type\": \"\",\n        \"description\": \"\"\n      }\n    }\n  ]\n}"
            }
          },
          "metadata": {},
          "execution_count": 305
        }
      ]
    },
    {
      "cell_type": "markdown",
      "source": [
        "Evaluation Metrics"
      ],
      "metadata": {
        "id": "113E1RgMGp7O"
      }
    },
    {
      "cell_type": "code",
      "source": [
        "mean_absolute_error(y,test_predictions_3)"
      ],
      "metadata": {
        "id": "up3fuUgSGc8L",
        "colab": {
          "base_uri": "https://localhost:8080/"
        },
        "outputId": "02d1e0bd-170b-4406-8cd4-900f5ef4987b"
      },
      "execution_count": null,
      "outputs": [
        {
          "output_type": "execute_result",
          "data": {
            "text/plain": [
              "0.31356709476993133"
            ]
          },
          "metadata": {},
          "execution_count": 306
        }
      ]
    },
    {
      "cell_type": "code",
      "source": [
        "mse_3 = mean_squared_error(y,test_predictions_3)\n",
        "rmse_3 = np.sqrt(mse_3)\n",
        "rmse_3"
      ],
      "metadata": {
        "id": "7PzzDGZzGzFG",
        "colab": {
          "base_uri": "https://localhost:8080/"
        },
        "outputId": "e03d468d-c1da-4460-94bb-d9a3d54ca6f4"
      },
      "execution_count": null,
      "outputs": [
        {
          "output_type": "execute_result",
          "data": {
            "text/plain": [
              "0.4632953747472162"
            ]
          },
          "metadata": {},
          "execution_count": 307
        }
      ]
    },
    {
      "cell_type": "code",
      "source": [
        "y.mean()"
      ],
      "metadata": {
        "colab": {
          "base_uri": "https://localhost:8080/"
        },
        "id": "XsHXhpObdS5T",
        "outputId": "82e88955-2a37-40c3-d8cf-c483ef894901"
      },
      "execution_count": null,
      "outputs": [
        {
          "output_type": "execute_result",
          "data": {
            "text/plain": [
              "14.0225"
            ]
          },
          "metadata": {},
          "execution_count": 308
        }
      ]
    },
    {
      "cell_type": "markdown",
      "source": [
        "Dari hasil evaluation metrics kedua model, degree=3 adalah yang terbaik"
      ],
      "metadata": {
        "id": "7QRj_1R3G-p4"
      }
    },
    {
      "cell_type": "markdown",
      "source": [
        "Dengan nilai MAE 0.31356709476993133 dan RMSE 0.4632953747472162 kita perlu mengecek :\n",
        "\n",
        "**Relative MAE**\n",
        "\n",
        "Relative MAE adalah ukuran kesalahan prediksi yang dinyatakan sebagai persentase dari nilai rata-rata aktual. Ini memberikan gambaran tentang seberapa besar kesalahan prediksi relatif terhadap skala data.\n",
        "\n",
        "![image.png](data:image/png;base64,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)\n",
        "\n",
        "Interpretasi:\n",
        "\n",
        "*   Relative MAE sebesar 2.24% berarti bahwa rata-rata kesalahan prediksi adalah sekitar 2.24% dari nilai rata-rata sales\n",
        "*   Kesalahan 2.24% dari rata-rata sales dapat dianggap bagus atau bahkan sangat bagus tergantung pada konteks bisnis dan toleransi kesalahan yang dapat diterima\n",
        "*   Jika bagi Perusahaan, kesalahan < 3% dianggap bagus, maka MAE sebesar 0.31356709476993133 menunjukkan performa model yang baik. Jika bisnis membutuhkan prediksi yang sangat akurat dengan kesalahan minimal, maka 2.24% adalah nilai yang sangat bagus\n",
        "\n",
        "\n",
        "**Relative RMSE**\n",
        "\n",
        "Sama seperti relative MAE, relative RMSE adalah ukuran kesalahan prediksi yang dinyatakan sebagai persentase dari nilai rata-rata aktual. Ini memberikan gambaran tentang seberapa besar kesalahan prediksi relatif terhadap skala data.\n",
        "\n",
        "![image.png](data:image/png;base64,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)\n",
        "\n",
        "Interpretasi:\n",
        "\n",
        "*   Relative RMSE sebesar 3.30% berarti bahwa rata-rata kesalahan prediksi (diukur dengan RMSE) adalah sekitar 3.30% dari nilai rata-rata sales\n",
        "*   Kesalahan 3.30% dari rata-rata sales dapat dianggap bagus atau bahkan sangat bagus tergantung pada konteks bisnis dan toleransi kesalahan yang dapat diterima\n",
        "*   Jika bagi Perusahaan, kesalahan < 4% dianggap bagus, maka RMSE sebesar 0.4632953747472162 menunjukkan performa model yang baik. Jika bisnis membutuhkan prediksi yang sangat akurat dengan kesalahan minimal, maka 3.30% adalah nilai yang bagus."
      ],
      "metadata": {
        "id": "gUShycbZd-AC"
      }
    },
    {
      "cell_type": "markdown",
      "source": [
        "### Save and Load Model"
      ],
      "metadata": {
        "id": "PHwOWxWwIBBd"
      }
    },
    {
      "cell_type": "code",
      "source": [
        "from joblib import dump,load"
      ],
      "metadata": {
        "id": "a3RZnqqjIsyP"
      },
      "execution_count": null,
      "outputs": []
    },
    {
      "cell_type": "code",
      "source": [
        "dump(polynomial_converter_3,'polynomial_converter.joblib')"
      ],
      "metadata": {
        "id": "6Ho5G8EJI6EA",
        "colab": {
          "base_uri": "https://localhost:8080/"
        },
        "outputId": "628fbf1f-a29a-4602-f576-b66ee2bce0ee"
      },
      "execution_count": null,
      "outputs": [
        {
          "output_type": "execute_result",
          "data": {
            "text/plain": [
              "['polynomial_converter.joblib']"
            ]
          },
          "metadata": {},
          "execution_count": 310
        }
      ]
    },
    {
      "cell_type": "code",
      "source": [
        "dump(poly_model,'poly_model.joblib')"
      ],
      "metadata": {
        "id": "OdrLDHD-IxSe",
        "colab": {
          "base_uri": "https://localhost:8080/"
        },
        "outputId": "4e1ddb4c-ea8d-4408-ae80-a19c432126ff"
      },
      "execution_count": null,
      "outputs": [
        {
          "output_type": "execute_result",
          "data": {
            "text/plain": [
              "['poly_model.joblib']"
            ]
          },
          "metadata": {},
          "execution_count": 311
        }
      ]
    },
    {
      "cell_type": "code",
      "source": [
        "loaded_converter = load('polynomial_converter.joblib')"
      ],
      "metadata": {
        "id": "DKxdrSybJN9o"
      },
      "execution_count": null,
      "outputs": []
    },
    {
      "cell_type": "code",
      "source": [
        "load_model = load('poly_model.joblib')"
      ],
      "metadata": {
        "id": "tmsUcOYUJOAS"
      },
      "execution_count": null,
      "outputs": []
    }
  ]
}